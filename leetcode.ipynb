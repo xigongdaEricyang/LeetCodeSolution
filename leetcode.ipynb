{
 "cells": [
  {
   "cell_type": "markdown",
   "metadata": {},
   "source": [
    "# 357 Given a non-negative integer n, count all numbers with unique digits, x, where 0 ≤ x < 10n.\n",
    "\n",
    "Example:\n",
    "Given n = 2, return 91. (The answer should be the total numbers in the range of 0 ≤ x < 100, excluding [11,22,33,44,55,66,77,88,99])\n",
    "\n",
    "Credits:\n",
    "Special thanks to @memoryless for adding this problem and creating all test cases."
   ]
  },
  {
   "cell_type": "code",
   "execution_count": 14,
   "metadata": {},
   "outputs": [],
   "source": [
    "class Solution(object):\n",
    "    def countNumbersWithUniqueDigits(self, n):\n",
    "        \"\"\"\n",
    "        :type n: int\n",
    "        :rtype: int\n",
    "        \"\"\"\n",
    "        dp = []\n",
    "        for i in range(n+1):\n",
    "            dp.append(0)\n",
    "        dp[0] = 1\n",
    "        for i in range(1, n + 1):\n",
    "            if i > 10:\n",
    "                return dp[10]\n",
    "            s = 9\n",
    "            for j in range(i, 1, -1):\n",
    "                s *= (11 - j)\n",
    "            dp[i] = dp[i-1] + s\n",
    "        return dp[n]"
   ]
  },
  {
   "cell_type": "code",
   "execution_count": 17,
   "metadata": {},
   "outputs": [
    {
     "data": {
      "text/plain": [
       "32491"
      ]
     },
     "execution_count": 17,
     "metadata": {},
     "output_type": "execute_result"
    }
   ],
   "source": [
    "Solution().countNumbersWithUniqueDigits(5)"
   ]
  },
  {
   "cell_type": "code",
   "execution_count": 28,
   "metadata": {},
   "outputs": [],
   "source": [
    "class Solution(object):\n",
    "    def quickSort(self, arrs):\n",
    "        if len(arrs) > 1:\n",
    "            less, euqal, more = self.partitions( arrs)\n",
    "            return self.quickSort(less) + euqal + self.quickSort(more) \n",
    "        else:\n",
    "            return arrs\n",
    "    def partitions(self, arrs):\n",
    "        less = []\n",
    "        equal = []\n",
    "        more = []\n",
    "        for i in arrs:\n",
    "            if i < arrs[0]:\n",
    "                less.append(i)\n",
    "            elif i == arrs[0]:\n",
    "                equal.append(i)\n",
    "            elif i > arrs[0]:\n",
    "                more.append(i)\n",
    "        return less, equal, more"
   ]
  },
  {
   "cell_type": "code",
   "execution_count": 29,
   "metadata": {},
   "outputs": [
    {
     "data": {
      "text/plain": [
       "[1, 2, 3, 5, 6, 7, 9, 10]"
      ]
     },
     "execution_count": 29,
     "metadata": {},
     "output_type": "execute_result"
    }
   ],
   "source": [
    "arrs = [3,6,2,1,5,10,9,7]\n",
    "Solution().quickSort(arrs)"
   ]
  },
  {
   "cell_type": "markdown",
   "metadata": {},
   "source": [
    "# 383. Ransom Note\n",
    "Given an arbitrary ransom note string and another string containing letters from all the magazines, write a function that will return true if the ransom note can be constructed from the magazines ; otherwise, it will return false.\n",
    "\n",
    "Each letter in the magazine string can only be used once in your ransom note.\n",
    "\n",
    "Note:\n",
    "You may assume that both strings contain only lowercase letters.\n",
    "<br>\n",
    "canConstruct(\"a\", \"b\") -> false\n",
    "<br>\n",
    "canConstruct(\"aa\", \"ab\") -> false\n",
    "<br>\n",
    "canConstruct(\"aa\", \"aab\") -> true"
   ]
  },
  {
   "cell_type": "code",
   "execution_count": 45,
   "metadata": {},
   "outputs": [],
   "source": [
    "class Solution(object):\n",
    "    def canConstruct(self, ransomNote, magazine):\n",
    "        \"\"\"\n",
    "        :type ransomNote: str\n",
    "        :type magazine: str\n",
    "        :rtype: bool\n",
    "        \"\"\"\n",
    "        if len(magazine) < len(ransomNote):\n",
    "            return False\n",
    "        tmp = dict()\n",
    "        for a in magazine:\n",
    "            if tmp.get(a):\n",
    "                tmp[a] += 1\n",
    "            else:\n",
    "                tmp[a] = 1\n",
    "        for b in ransomNote:\n",
    "            if tmp.get(b) and tmp.get(b) > 0:\n",
    "                tmp[b] -= 1\n",
    "            else:\n",
    "                return False\n",
    "        return True\n",
    "    def canConstruct2(self, ransomNote, magazine):\n",
    "        \"\"\"\n",
    "        :type ransomNote: str\n",
    "        :type magazine: str\n",
    "        :rtype: bool\n",
    "        \"\"\"\n",
    "        for a in ransomNote:\n",
    "            if a not in magazine:\n",
    "                return False\n",
    "            else:\n",
    "                magazine = magazine.replace(a, \"\", 1)\n",
    "        return True"
   ]
  },
  {
   "cell_type": "code",
   "execution_count": 46,
   "metadata": {},
   "outputs": [
    {
     "data": {
      "text/plain": [
       "True"
      ]
     },
     "execution_count": 46,
     "metadata": {},
     "output_type": "execute_result"
    }
   ],
   "source": [
    "Solution().canConstruct2(\"aa\", \"aab\")"
   ]
  },
  {
   "cell_type": "code",
   "execution_count": 35,
   "metadata": {},
   "outputs": [
    {
     "data": {
      "text/plain": [
       "{'a': 1, 'b': 3, 'c': 1}"
      ]
     },
     "execution_count": 35,
     "metadata": {},
     "output_type": "execute_result"
    }
   ],
   "source": [
    "tmp=dict()\n",
    "for a in magazine:\n",
    "    if tmp.get(a):\n",
    "        tmp[a] += 1\n",
    "    else:\n",
    "        tmp[a] = 1\n",
    "tmp"
   ]
  },
  {
   "cell_type": "markdown",
   "metadata": {},
   "source": [
    "# 384. Shuffle an Array\n",
    "Shuffle a set of numbers without duplicates.\n",
    "\n",
    "// Init an array with set 1, 2, and 3.\n",
    "int[] nums = {1,2,3};\n",
    "Solution solution = new Solution(nums);\n",
    "\n",
    "// Shuffle the array [1,2,3] and return its result. Any permutation of [1,2,3] must equally likely to be returned.\n",
    "solution.shuffle();\n",
    "\n",
    "// Resets the array back to its original configuration [1,2,3].\n",
    "solution.reset();\n",
    "\n",
    "// Returns the random shuffling of array [1,2,3].\n",
    "solution.shuffle();"
   ]
  },
  {
   "cell_type": "code",
   "execution_count": 96,
   "metadata": {},
   "outputs": [],
   "source": [
    "class Solution(object):\n",
    "\n",
    "    def __init__(self, nums):\n",
    "        \"\"\"\n",
    "        :type nums: List[int]\n",
    "        \"\"\"\n",
    "        self.__nums = nums\n",
    "        \n",
    "\n",
    "    def reset(self):\n",
    "        \"\"\"\n",
    "        Resets the array to its original configuration and return it.\n",
    "        :rtype: List[int]\n",
    "        \"\"\"\n",
    "        return self.__nums\n",
    "        \n",
    "\n",
    "    def shuffle(self):\n",
    "        \"\"\"\n",
    "        Returns a random shuffling of the array.\n",
    "        :rtype: List[int]\n",
    "        \"\"\"\n",
    "        ans = self.__nums[:]\n",
    "        \n",
    "        for i in range(len(ans)):\n",
    "            j = random.randrange(len(ans))\n",
    "            ans[i], ans[j] = ans[j], ans[i]\n",
    "        return ans\n",
    "        \n",
    "        \n",
    "\n",
    "\n",
    "# Your Solution object will be instantiated and called as such:\n",
    "# obj = Solution(nums)\n",
    "# param_1 = obj.reset()\n",
    "# param_2 = obj.shuffle()"
   ]
  },
  {
   "cell_type": "code",
   "execution_count": 114,
   "metadata": {},
   "outputs": [
    {
     "data": {
      "text/plain": [
       "[3, 1, 2]"
      ]
     },
     "execution_count": 114,
     "metadata": {},
     "output_type": "execute_result"
    }
   ],
   "source": [
    "ans=[1,2,3]\n",
    "Solution(ans).shuffle()"
   ]
  },
  {
   "cell_type": "markdown",
   "metadata": {},
   "source": [
    "# 414. Third Maximum Number\n",
    "Given a non-empty array of integers, return the third maximum number in this array. If it does not exist, return the maximum number. The time complexity must be in O(n).\n",
    "\n",
    "Example 1:\n",
    "Input: [3, 2, 1]\n",
    "\n",
    "Output: 1\n",
    "\n",
    "Explanation: The third maximum is 1.\n",
    "Example 2:\n",
    "Input: [1, 2]\n",
    "\n",
    "Output: 2\n",
    "\n",
    "Explanation: The third maximum does not exist, so the maximum (2) is returned instead.\n",
    "Example 3:\n",
    "Input: [2, 2, 3, 1]\n",
    "\n",
    "Output: 1\n",
    "\n",
    "Explanation: Note that the third maximum here means the third maximum distinct number.\n",
    "Both numbers with value 2 are both considered as second maximum.\n"
   ]
  },
  {
   "cell_type": "code",
   "execution_count": 140,
   "metadata": {},
   "outputs": [],
   "source": [
    "class Solution(object):\n",
    "    def thirdMax(self, nums):\n",
    "        \"\"\"\n",
    "        :type nums: List[int]\n",
    "        :rtype: int\n",
    "        \"\"\"\n",
    "        top3max = [float('-inf'), float('-inf'),float('-inf')]\n",
    "        flag = [0,0,0]\n",
    "        for i in range(0, 3):\n",
    "            for n in nums:\n",
    "                if i == 0:\n",
    "                    if n > top3max[i]:\n",
    "                        top3max[i] = n\n",
    "                        flag[i] = 1\n",
    "                else:\n",
    "                    if n > top3max[i] and n < top3max[i-1]:\n",
    "                        top3max[i] = n\n",
    "                        flag[i] = 1\n",
    "        return top3max[2] if flag[2] == 1 else top3max[0]"
   ]
  },
  {
   "cell_type": "code",
   "execution_count": 141,
   "metadata": {},
   "outputs": [
    {
     "data": {
      "text/plain": [
       "1"
      ]
     },
     "execution_count": 141,
     "metadata": {},
     "output_type": "execute_result"
    }
   ],
   "source": [
    "Solution().thirdMax([1, 2, 2, 3])"
   ]
  },
  {
   "cell_type": "markdown",
   "metadata": {},
   "source": [
    "# 714. Best Time to Buy and Sell Stock with Transaction Fee\n",
    "Your are given an array of integers prices, for which the i-th element is the price of a given stock on day i; and a non-negative integer fee representing a transaction fee.\n",
    "\n",
    "You may complete as many transactions as you like, but you need to pay the transaction fee for each transaction. You may not buy more than 1 share of a stock at a time (ie. you must sell the stock share before you buy again.)\n",
    "\n",
    "Return the maximum profit you can make.\n",
    "Example 1:\n",
    "Input: prices = [1, 3, 2, 8, 4, 9], fee = 2\n",
    "Output: 8\n",
    "Explanation: The maximum profit can be achieved by:\n",
    "Buying at prices[0] = 1\n",
    "Selling at prices[3] = 8\n",
    "Buying at prices[4] = 4\n",
    "Selling at prices[5] = 9\n",
    "The total profit is ((8 - 1) - 2) + ((9 - 4) - 2) = 8.\n",
    "\n",
    "Note:\n",
    "\n",
    "0 < prices.length <= 50000.\n",
    "0 < prices[i] < 50000.\n",
    "0 <= fee < 50000."
   ]
  },
  {
   "cell_type": "code",
   "execution_count": 3,
   "metadata": {},
   "outputs": [],
   "source": [
    "class Solution(object):\n",
    "    def maxProfit(self, prices, fee):\n",
    "        \"\"\"\n",
    "        :type prices: List[int]\n",
    "        :type fee: int\n",
    "        :rtype: int\n",
    "        \"\"\"\n",
    "        sell = 0\n",
    "        own = float('-inf')\n",
    "        for i in range(0, len(prices)):\n",
    "            sell = max(sell, own + prices[i] - fee)\n",
    "            own = max(own, sell - prices[i])\n",
    "        return sell"
   ]
  },
  {
   "cell_type": "code",
   "execution_count": 2,
   "metadata": {},
   "outputs": [
    {
     "data": {
      "text/plain": [
       "8"
      ]
     },
     "execution_count": 2,
     "metadata": {},
     "output_type": "execute_result"
    }
   ],
   "source": [
    "Solution().maxProfit([1, 3, 2, 8, 4, 9], 2)"
   ]
  },
  {
   "cell_type": "markdown",
   "metadata": {},
   "source": [
    "# 332 Given a list of airline tickets represented by pairs of departure and arrival airports [from, to], reconstruct the itinerary in order. All of the tickets belong to a man who departs from JFK. Thus, the itinerary must begin with JFK.\n",
    "\n",
    "Note:\n",
    "If there are multiple valid itineraries, you should return the itinerary that has the smallest lexical order when read as a single string. For example, the itinerary [\"JFK\", \"LGA\"] has a smaller lexical order than [\"JFK\", \"LGB\"].\n",
    "All airports are represented by three capital letters (IATA code).\n",
    "You may assume all tickets form at least one valid itinerary.\n",
    "Example 1:\n",
    "tickets = [[\"MUC\", \"LHR\"], [\"JFK\", \"MUC\"], [\"SFO\", \"SJC\"], [\"LHR\", \"SFO\"]]\n",
    "Return [\"JFK\", \"MUC\", \"LHR\", \"SFO\", \"SJC\"].\n",
    "Example 2:\n",
    "tickets = [[\"JFK\",\"SFO\"],[\"JFK\",\"ATL\"],[\"SFO\",\"ATL\"],[\"ATL\",\"JFK\"],[\"ATL\",\"SFO\"]]\n",
    "Return [\"JFK\",\"ATL\",\"JFK\",\"SFO\",\"ATL\",\"SFO\"].\n",
    "Another possible reconstruction is [\"JFK\",\"SFO\",\"ATL\",\"JFK\",\"ATL\",\"SFO\"]. But it is larger in lexical order.\n",
    "\n",
    "Credits:\n",
    "Special thanks to @dietpepsi for adding this problem and creating all test cases."
   ]
  },
  {
   "cell_type": "code",
   "execution_count": 21,
   "metadata": {},
   "outputs": [],
   "source": [
    "import collections\n",
    "class Solution(object):\n",
    "    def findItinerary(self, tickets):\n",
    "        \"\"\"\n",
    "        :type tickets: List[List[str]]\n",
    "        :rtype: List[str]\n",
    "        \"\"\"\n",
    "        Map = collections.defaultdict(list)\n",
    "        path = []\n",
    "        for a, b in sorted(tickets)[::-1]:\n",
    "            Map[a].append(b)\n",
    "            \n",
    "        def DFS(start):\n",
    "            while Map[start]:\n",
    "                DFS(Map[start].pop())\n",
    "            path.append(start)\n",
    "        DFS('JFK')    \n",
    "        return path[::-1]"
   ]
  },
  {
   "cell_type": "code",
   "execution_count": 22,
   "metadata": {},
   "outputs": [
    {
     "data": {
      "text/plain": [
       "['JFK', 'ATL', 'JFK', 'SFO', 'ATL', 'SFO']"
      ]
     },
     "execution_count": 22,
     "metadata": {},
     "output_type": "execute_result"
    }
   ],
   "source": [
    "tickets = [[\"JFK\",\"SFO\"],[\"JFK\",\"ATL\"],[\"SFO\",\"ATL\"],[\"ATL\",\"JFK\"],[\"ATL\",\"SFO\"]]\n",
    "Solution().findItinerary(tickets)"
   ]
  },
  {
   "cell_type": "markdown",
   "metadata": {},
   "source": [
    "# 686. Repeated String Match\n",
    "Given two strings A and B, find the minimum number of times A has to be repeated such that B is a substring of it. If no such solution, return -1.\n",
    "\n",
    "For example, with A = \"abcd\" and B = \"cdabcdab\".\n",
    "\n",
    "Return 3, because by repeating A three times (“abcdabcdabcd”), B is a substring of it; and B is not a substring of A repeated two times (\"abcdabcd\").\n",
    "\n",
    "Note:\n",
    "The length of A and B will be between 1 and 10000."
   ]
  },
  {
   "cell_type": "code",
   "execution_count": 120,
   "metadata": {},
   "outputs": [],
   "source": [
    "class Solution(object):\n",
    "    def repeatedStringMatch(self, A, B):\n",
    "        \"\"\"\n",
    "        :type A: str\n",
    "        :type B: str\n",
    "        :rtype: int\n",
    "        \"\"\"\n",
    "        time = 1\n",
    "        while not self.issubStr(A, B):\n",
    "            A += A\n",
    "            time += 1\n",
    "        return time\n",
    "    def calNextState(self, A, B):\n",
    "        char_list = sorted(list(set(A)))\n",
    "        m = len(B)\n",
    "        q = len(char_list)\n",
    "        next_state = [[0]*q for p in range(m+1)]\n",
    "        for k in range(m+1):\n",
    "            for a in range(q):\n",
    "                pka = B[:k] + char_list[a]\n",
    "                i = min(len(pka), m)\n",
    "                while B[:i] != pka[k+1-i:]:\n",
    "                    i -= 1\n",
    "                next_state[k][a] = i\n",
    "        return next_state\n",
    "    def issubStr(self, A, B): \n",
    "        if len(A) < len(B):\n",
    "            return False\n",
    "        char_list = sorted(list(set(A)))\n",
    "        next_state = self.calNextState(A, B)\n",
    "        m = len(B)\n",
    "        state = 0\n",
    "        for i in range(0, len(A)):\n",
    "            state = next_state[state][char_list.index(A[i])]\n",
    "            if state == m:\n",
    "                return True\n",
    "        return False\n",
    "        "
   ]
  },
  {
   "cell_type": "code",
   "execution_count": 127,
   "metadata": {},
   "outputs": [
    {
     "data": {
      "text/plain": [
       "True"
      ]
     },
     "execution_count": 127,
     "metadata": {},
     "output_type": "execute_result"
    }
   ],
   "source": [
    "A = 'GTAACAGTAAACG'\n",
    "B = 'ACAG'\n",
    "Solution().issubStr(A, B)"
   ]
  },
  {
   "cell_type": "markdown",
   "metadata": {},
   "source": [
    "# 94. Binary Tree Inorder Traversal \n",
    "Given a binary tree, return the inorder traversal of its nodes' values.\n",
    "Input: [1,null,2,3]\n",
    "   1\n",
    "    \\\n",
    "     2\n",
    "    /\n",
    "   3\n",
    "\n",
    "Output: [1,3,2]\n",
    "<br>\n",
    "Follow up: Recursive solution is trivial, could you do it iteratively?"
   ]
  },
  {
   "cell_type": "code",
   "execution_count": 151,
   "metadata": {},
   "outputs": [],
   "source": [
    "# Definition for a binary tree node.\n",
    "class TreeNode(object):\n",
    "    def __init__(self, x):\n",
    "        self.val = x\n",
    "        self.left = None\n",
    "        self.right = None\n",
    "\n",
    "class Solution(object):\n",
    "    def inorderTraversal(self, root):\n",
    "        \"\"\"\n",
    "        :type root: TreeNode\n",
    "        :rtype: List[int]\n",
    "        \"\"\"\n",
    "        result = []\n",
    "        stack = list()\n",
    "        while len(stack) != 0 or root != None:\n",
    "            if root != None:\n",
    "                stack.append(root)\n",
    "                root = root.left\n",
    "            else:\n",
    "                root = stack.pop()\n",
    "                if root.val != None:\n",
    "                    result.append(root.val)\n",
    "                root = root.right\n",
    "        return result\n",
    "        "
   ]
  },
  {
   "cell_type": "code",
   "execution_count": 155,
   "metadata": {},
   "outputs": [
    {
     "data": {
      "text/plain": [
       "[1, 3, 2]"
      ]
     },
     "execution_count": 155,
     "metadata": {},
     "output_type": "execute_result"
    }
   ],
   "source": [
    "a = TreeNode(1)\n",
    "b = TreeNode(None)\n",
    "c = TreeNode(2)\n",
    "d = TreeNode(3)\n",
    "\n",
    "a.left = b\n",
    "a.right = c\n",
    "c.left = d\n",
    "\n",
    "Solution().inorderTraversal(a)"
   ]
  },
  {
   "cell_type": "markdown",
   "metadata": {},
   "source": [
    "# 110. Balanced Binary Tree\n",
    "Given a binary tree, determine if it is height-balanced.\n",
    "\n",
    "For this problem, a height-balanced binary tree is defined as:\n",
    "\n",
    "a binary tree in which the depth of the two subtrees of every node never differ by more than 1.\n",
    "\n",
    "Example 1:\n",
    "\n",
    "Given the following tree [3,9,20,null,null,15,7]:\n",
    "Return true\n",
    "\n",
    "Example 2:\n",
    "\n",
    "Given the following tree [1,2,2,3,3,null,null,4,4]:\n",
    "\n",
    "Return false"
   ]
  },
  {
   "cell_type": "code",
   "execution_count": 197,
   "metadata": {},
   "outputs": [],
   "source": [
    "# Definition for a binary tree node.\n",
    "class TreeNode(object):\n",
    "    def __init__(self, x):\n",
    "        self.val = x\n",
    "        self.left = None\n",
    "        self.right = None\n",
    "\n",
    "class Solution(object):\n",
    "    def isBalanced(self, root):\n",
    "        \"\"\"\n",
    "        :type root: TreeNode\n",
    "        :rtype: bool\n",
    "        \"\"\"\n",
    "        res = [True]\n",
    "        self.getHeight(root, 1, res)\n",
    "        return res[0]\n",
    "    \n",
    "    def getHeight(self, root, level, res):\n",
    "        if root == None or root.val == None:\n",
    "            return level\n",
    "        lh = self.getHeight(root.left, level+1, res)\n",
    "        \n",
    "        if not res[0]:\n",
    "            return level\n",
    "        rh = self.getHeight(root.right, level+1, res)\n",
    "        \n",
    "        if not res[0]:\n",
    "            return level\n",
    "        if abs(lh - rh) > 1:\n",
    "            res[0] = False\n",
    "        return max(lh, rh)\n",
    "        "
   ]
  },
  {
   "cell_type": "code",
   "execution_count": 198,
   "metadata": {},
   "outputs": [],
   "source": [
    "a1 = TreeNode(3)\n",
    "a2 = TreeNode(9)\n",
    "a3 = TreeNode(20)\n",
    "a4 = TreeNode(None)\n",
    "a5 = TreeNode(None)\n",
    "a6 = TreeNode(15)\n",
    "a7 = TreeNode(7)\n",
    "\n",
    "a1.left = a2\n",
    "a1.right = a3\n",
    "a2.left = a4\n",
    "a2.right = a5\n",
    "a3.left = a6\n",
    "a3.right = a7"
   ]
  },
  {
   "cell_type": "code",
   "execution_count": 199,
   "metadata": {},
   "outputs": [
    {
     "data": {
      "text/plain": [
       "True"
      ]
     },
     "execution_count": 199,
     "metadata": {},
     "output_type": "execute_result"
    }
   ],
   "source": [
    "Solution().isBalanced(a1)"
   ]
  },
  {
   "cell_type": "code",
   "execution_count": 200,
   "metadata": {},
   "outputs": [],
   "source": [
    "a1 = TreeNode(1)\n",
    "a2 = TreeNode(2)\n",
    "a3 = TreeNode(2)\n",
    "a4 = TreeNode(3)\n",
    "a5 = TreeNode(3)\n",
    "a6 = TreeNode(None)\n",
    "a7 = TreeNode(None)\n",
    "a8 = TreeNode(4)\n",
    "a9 = TreeNode(4)\n",
    "\n",
    "a1.left = a2\n",
    "a1.right = a3\n",
    "a2.left = a4\n",
    "a2.right = a5\n",
    "a3.left = a6\n",
    "a3.right = a7\n",
    "a4.left = a8\n",
    "a4.right = a9"
   ]
  },
  {
   "cell_type": "code",
   "execution_count": 201,
   "metadata": {},
   "outputs": [
    {
     "data": {
      "text/plain": [
       "False"
      ]
     },
     "execution_count": 201,
     "metadata": {},
     "output_type": "execute_result"
    }
   ],
   "source": [
    "Solution().isBalanced(a1)"
   ]
  },
  {
   "cell_type": "code",
   "execution_count": 204,
   "metadata": {},
   "outputs": [
    {
     "data": {
      "text/plain": [
       "['emocleW']"
      ]
     },
     "execution_count": 204,
     "metadata": {},
     "output_type": "execute_result"
    }
   ],
   "source": [
    "sentence = \"Welcome\"\n",
    "[word[::-1] if len(word) >= 5 else word for word in sentence.split(' ')]"
   ]
  },
  {
   "cell_type": "markdown",
   "metadata": {},
   "source": [
    "# get max window"
   ]
  },
  {
   "cell_type": "code",
   "execution_count": 28,
   "metadata": {},
   "outputs": [],
   "source": [
    "from collections import deque\n",
    "class Solution():\n",
    "    def getMaxWindow(self, arr, w):\n",
    "        qmax = deque()\n",
    "        res = [0] * (len(arr) - w + 1)\n",
    "        \n",
    "        index = 0\n",
    "        for i in range(len(arr)):\n",
    "            while len(qmax) > 0 and arr[qmax[-1]] <= arr[i]:\n",
    "                qmax.pop()\n",
    "            qmax.append(i)\n",
    "            if qmax[0] == i-w:\n",
    "                qmax.popleft()\n",
    "            if i >= w -1:\n",
    "                res[index] = arr[qmax[0]]\n",
    "                index += 1\n",
    "        return res"
   ]
  },
  {
   "cell_type": "code",
   "execution_count": 30,
   "metadata": {},
   "outputs": [
    {
     "data": {
      "text/plain": [
       "[5, 5, 5, 5, 5, 5, 3, 6, 7]"
      ]
     },
     "execution_count": 30,
     "metadata": {},
     "output_type": "execute_result"
    }
   ],
   "source": [
    "Solution().getMaxWindow([4,3,5,4, 2, 5,2,3,3,6,7], 3)"
   ]
  },
  {
   "cell_type": "markdown",
   "metadata": {},
   "source": [
    "# 18. 4Sum\n",
    "Given an array nums of n integers and an integer target, are there elements a, b, c, and d in nums such that a + b + c + d = target? Find all unique quadruplets in the array which gives the sum of target.\n",
    "\n",
    "Note:\n",
    "\n",
    "The solution set must not contain duplicate quadruplets.\n",
    "\n",
    "Example:\n",
    "\n",
    "Given array nums = [1, 0, -1, 0, -2, 2], and target = 0.\n",
    "\n",
    "A solution set is:\n",
    "[\n",
    "  [-1,  0, 0, 1],\n",
    "  [-2, -1, 1, 2],\n",
    "  [-2,  0, 0, 2]\n",
    "]"
   ]
  },
  {
   "cell_type": "markdown",
   "metadata": {},
   "source": [
    "# 35. Search Insert Position\n",
    "Given a sorted array and a target value, return the index if the target is found. If not, return the index where it would be if it were inserted in order.\n",
    "\n",
    "You may assume no duplicates in the array.\n",
    "\n",
    "Example 1:\n",
    "\n",
    "Input: [1,3,5,6], 5\n",
    "Output: 2\n",
    "Example 2:\n",
    "\n",
    "Input: [1,3,5,6], 2\n",
    "Output: 1\n",
    "Example 3:\n",
    "\n",
    "Input: [1,3,5,6], 7\n",
    "Output: 4\n",
    "Example 4:\n",
    "\n",
    "Input: [1,3,5,6], 0\n",
    "Output: 0"
   ]
  },
  {
   "cell_type": "code",
   "execution_count": 45,
   "metadata": {},
   "outputs": [],
   "source": [
    "class Solution(object):\n",
    "    def searchInsert(self, nums, target):\n",
    "        \"\"\"\n",
    "        :type nums: List[int]\n",
    "        :type target: int\n",
    "        :rtype: int\n",
    "        \"\"\"\n",
    "        head = 0\n",
    "        if target > nums[-1]:\n",
    "            return len(nums)\n",
    "        if target < nums[0]:\n",
    "            return 0\n",
    "        while head < len(nums):\n",
    "            if nums[head] == target:\n",
    "                return head\n",
    "            if target > nums[head] and target < nums[head + 1]:\n",
    "                return head + 1\n",
    "            head += 1\n",
    "        return head"
   ]
  },
  {
   "cell_type": "code",
   "execution_count": 50,
   "metadata": {},
   "outputs": [
    {
     "data": {
      "text/plain": [
       "4"
      ]
     },
     "execution_count": 50,
     "metadata": {},
     "output_type": "execute_result"
    }
   ],
   "source": [
    "Solution().searchInsert([1,3,5,6], 7)"
   ]
  },
  {
   "cell_type": "markdown",
   "metadata": {},
   "source": [
    "# 58. Length of Last Word\n",
    "Given a string s consists of upper/lower-case alphabets and empty space characters ' ', return the length of last word in the string.\n",
    "\n",
    "If the last word does not exist, return 0.\n",
    "\n",
    "Note: A word is defined as a character sequence consists of non-space characters only.\n",
    "\n",
    "Example:\n",
    "\n",
    "Input: \"Hello World\"\n",
    "Output: 5"
   ]
  },
  {
   "cell_type": "code",
   "execution_count": 23,
   "metadata": {},
   "outputs": [],
   "source": [
    "class Solution(object):\n",
    "    def lengthOfLastWord(self, s):\n",
    "        \"\"\"\n",
    "        :type s: str\n",
    "        :rtype: int\n",
    "        \"\"\"\n",
    "        return len(s.strip().split(' ')[-1])"
   ]
  },
  {
   "cell_type": "code",
   "execution_count": 25,
   "metadata": {},
   "outputs": [
    {
     "data": {
      "text/plain": [
       "1"
      ]
     },
     "execution_count": 25,
     "metadata": {},
     "output_type": "execute_result"
    }
   ],
   "source": [
    "Solution().lengthOfLastWord(\"a \")"
   ]
  },
  {
   "cell_type": "markdown",
   "metadata": {},
   "source": [
    "# 236. Lowest Common Ancestor of a Binary Tree\n",
    "Given a binary tree, find the lowest common ancestor (LCA) of two given nodes in the tree.\n",
    "\n",
    "According to the definition of LCA on Wikipedia: “The lowest common ancestor is defined between two nodes v and w as the lowest node in T that has both v and w as descendants (where we allow a node to be a descendant of itself).”\n",
    "\n",
    "Given the following binary search tree:  root = [3,5,1,6,2,0,8,null,null,7,4]\n",
    "```\n",
    "       _______3______\n",
    "       /              \\\n",
    "    ___5__          ___1__\n",
    "   /      \\        /      \\\n",
    "   6      _2       0       8\n",
    "         /  \\\n",
    "         7   4\n",
    "```\n",
    "Example 1:\n",
    "```\n",
    "Input: root, p = 5, q = 1\n",
    "Output: 3\n",
    "Explanation: The LCA of of nodes 5 and 1 is 3.\n",
    "```\n",
    "Example 2:\n",
    "```\n",
    "Input: root, p = 5, q = 4\n",
    "Output: 5\n",
    "Explanation: The LCA of nodes 5 and 4 is 5, since a node can be a descendant of itself\n",
    "             according to the LCA definition.\n",
    "```"
   ]
  },
  {
   "cell_type": "code",
   "execution_count": 31,
   "metadata": {},
   "outputs": [],
   "source": [
    "# Definition for a binary tree node.\n",
    "class TreeNode(object):\n",
    "    def __init__(self, x):\n",
    "        self.val = x\n",
    "        self.left = None\n",
    "        self.right = None\n",
    "\n",
    "class Solution(object):\n",
    "    def lowestCommonAncestor(self, root, p, q):\n",
    "        \"\"\"\n",
    "        :type root: TreeNode\n",
    "        :type p: TreeNode\n",
    "        :type q: TreeNode\n",
    "        :rtype: TreeNode\n",
    "        \"\"\"\n",
    "        if root == None or root == p or root == q:\n",
    "            return root\n",
    "        left = self.lowestCommonAncestor(root.left, p, q)\n",
    "        right = self.lowestCommonAncestor(root.right, p, q)\n",
    "        \n",
    "        if left != None and right != None:\n",
    "            return root\n",
    "        if left != None:\n",
    "            return left\n",
    "        elif right != None:\n",
    "            return right"
   ]
  },
  {
   "cell_type": "code",
   "execution_count": 32,
   "metadata": {},
   "outputs": [],
   "source": [
    "a = TreeNode(3)\n",
    "b = TreeNode(5)\n",
    "c = TreeNode(1)\n",
    "d = TreeNode(6)\n",
    "e = TreeNode(2)\n",
    "f = TreeNode(0)\n",
    "g = TreeNode(8)\n",
    "h = TreeNode(7)\n",
    "i = TreeNode(4)\n",
    "a.left = b\n",
    "a.right = c\n",
    "b.left = d\n",
    "b.right = e\n",
    "c.left = f\n",
    "c.right = g\n",
    "e.left = h\n",
    "e.right = i"
   ]
  },
  {
   "cell_type": "code",
   "execution_count": 20,
   "metadata": {},
   "outputs": [],
   "source": [
    "a = TreeNode(1)\n",
    "b = TreeNode(2)\n",
    "a.right = 2"
   ]
  },
  {
   "cell_type": "code",
   "execution_count": 34,
   "metadata": {},
   "outputs": [
    {
     "data": {
      "text/plain": [
       "3"
      ]
     },
     "execution_count": 34,
     "metadata": {},
     "output_type": "execute_result"
    }
   ],
   "source": [
    "Solution().lowestCommonAncestor(a, c, e)"
   ]
  },
  {
   "cell_type": "markdown",
   "metadata": {},
   "source": [
    "# quick sort"
   ]
  },
  {
   "cell_type": "code",
   "execution_count": 36,
   "metadata": {},
   "outputs": [],
   "source": [
    "class Solution(object):\n",
    "    def quickSort(self, nums, start, end):\n",
    "        if start >= end:\n",
    "            return nums\n",
    "        pos = self.partion(nums, start, end)\n",
    "        self.quickSort(nums, start, pos-1)\n",
    "        self.quickSort(nums, pos+1, end)\n",
    "        \n",
    "    def partion(self, nums, i, j):\n",
    "        val = nums[i]\n",
    "        while i < j:\n",
    "            while i < j and nums[j] >= val:\n",
    "                j -= 1\n",
    "            nums[i] = nums[j]\n",
    "            nums[j] = val\n",
    "            while i < j and nums[i] <= val:\n",
    "                i += 1\n",
    "            nums[j] = nums[i]\n",
    "            nums[i] =val\n",
    "        return i\n"
   ]
  },
  {
   "cell_type": "code",
   "execution_count": 38,
   "metadata": {},
   "outputs": [],
   "source": [
    "nums = [3,2,1,5,6,4]\n",
    "start = 0\n",
    "end = len(nums) -1\n",
    "Solution().quickSort(nums, start, end)"
   ]
  },
  {
   "cell_type": "markdown",
   "metadata": {},
   "source": [
    "# 215. Kth Largest Element in an Array\n",
    "Find the kth largest element in an unsorted array. Note that it is the kth largest element in the sorted order, not the kth distinct element.\n",
    "\n",
    "Example 1:\n",
    "```\n",
    "Input: [3,2,1,5,6,4] and k = 2\n",
    "Output: 5\n",
    "```\n",
    "Example 2:\n",
    "```\n",
    "Input: [3,2,3,1,2,4,5,5,6] and k = 4\n",
    "Output: 4\n",
    "Note: \n",
    "You may assume k is always valid, 1 ≤ k ≤ array's length.\n",
    "```"
   ]
  },
  {
   "cell_type": "code",
   "execution_count": 53,
   "metadata": {},
   "outputs": [],
   "source": [
    "class Solution(object):\n",
    "    def findKthLargest(self, nums, k):\n",
    "        \"\"\"\n",
    "        :type nums: List[int]\n",
    "        :type k: int\n",
    "        :rtype: int\n",
    "        \"\"\"\n",
    "        k = len(nums) - k + 1\n",
    "        start = 0\n",
    "        end = len(nums)-1\n",
    "        \n",
    "        while start < end:\n",
    "            l = self.partition(nums, start, end)\n",
    "            \n",
    "            if l>= k: \n",
    "                end = l -1\n",
    "            else:\n",
    "                start = l\n",
    "        return nums[start]\n",
    "    \n",
    "    def partition(self, nums, start, end):\n",
    "        val = nums[(start+end)//2]\n",
    "        \n",
    "        while start <= end:\n",
    "            while nums[end] > val:\n",
    "                end -= 1\n",
    "            while nums[start] < val:\n",
    "                start += 1\n",
    "            if start <= end:\n",
    "                nums[start], nums[end] = nums[end], nums[start]\n",
    "                start += 1\n",
    "                end -= 1\n",
    "        return start\n",
    "    \n",
    "             "
   ]
  },
  {
   "cell_type": "code",
   "execution_count": 54,
   "metadata": {},
   "outputs": [
    {
     "data": {
      "text/plain": [
       "5"
      ]
     },
     "execution_count": 54,
     "metadata": {},
     "output_type": "execute_result"
    }
   ],
   "source": [
    "Solution().findKthLargest([3,2,1,5,6,4], 2)"
   ]
  },
  {
   "cell_type": "markdown",
   "metadata": {},
   "source": [
    "# 459. Repeated Substring Pattern\n",
    "Given a non-empty string check if it can be constructed by taking a substring of it and appending multiple copies of the substring together. You may assume the given string consists of lowercase English letters only and its length will not exceed 10000.\n",
    "\n",
    "```\n",
    "Example 1:\n",
    "Input: \"abab\"\n",
    "\n",
    "Output: True\n",
    "\n",
    "Explanation: It's the substring \"ab\" twice.\n",
    "Example 2:\n",
    "Input: \"aba\"\n",
    "\n",
    "Output: False\n",
    "Example 3:\n",
    "Input: \"abcabcabcabc\"\n",
    "\n",
    "Output: True\n",
    "\n",
    "Explanation: It's the substring \"abc\" four times. (And the substring \"abcabc\" twice.)\n",
    "```"
   ]
  },
  {
   "cell_type": "code",
   "execution_count": 57,
   "metadata": {},
   "outputs": [],
   "source": [
    "class Solution(object):\n",
    "    def repeatedSubstringPattern(self, s):\n",
    "        \"\"\"\n",
    "        :type s: str\n",
    "        :rtype: bool \n",
    "        \"\"\"\n",
    "        for i in range(1, len(s)):\n",
    "            if len(s) % i == 0 and int(len(s)/i) * s[:i] == s:\n",
    "                return True\n",
    "        return False"
   ]
  },
  {
   "cell_type": "code",
   "execution_count": 60,
   "metadata": {},
   "outputs": [
    {
     "data": {
      "text/plain": [
       "True"
      ]
     },
     "execution_count": 60,
     "metadata": {},
     "output_type": "execute_result"
    }
   ],
   "source": [
    "Solution().repeatedSubstringPattern(\"abab\")"
   ]
  },
  {
   "cell_type": "markdown",
   "metadata": {},
   "source": [
    "# 279. Perfect Squares\n",
    "Given a positive integer n, find the least number of perfect square numbers (for example, 1, 4, 9, 16, ...) which sum to n.\n",
    "```\n",
    "Example 1:\n",
    "\n",
    "Input: n = 12\n",
    "Output: 3 \n",
    "Explanation: 12 = 4 + 4 + 4.\n",
    "Example 2:\n",
    "\n",
    "Input: n = 13\n",
    "Output: 2\n",
    "Explanation: 13 = 4 + 9.\n",
    "```"
   ]
  },
  {
   "cell_type": "code",
   "execution_count": 69,
   "metadata": {},
   "outputs": [],
   "source": [
    "import math\n",
    "class Solution(object):\n",
    "    def numSquares(self, n):\n",
    "        \"\"\"\n",
    "        :type n: int\n",
    "        :rtype: int\n",
    "        \"\"\"\n",
    "        dp = [0] * (n + 1)\n",
    "        dp[0] = 0\n",
    "        dp[1] = 1\n",
    "        for i in range(2, n + 1):\n",
    "            if int(math.sqrt(i))**2 == i:\n",
    "                dp[i] = 1\n",
    "                continue\n",
    "            minicount = math.inf\n",
    "            for j in range(1, i+1):\n",
    "                if j**2 < i:\n",
    "                    minicount = min(minicount, dp[j**2] + dp[i-j**2])\n",
    "            dp[i] = minicount\n",
    "        return dp[n]\n",
    "                "
   ]
  },
  {
   "cell_type": "code",
   "execution_count": 71,
   "metadata": {},
   "outputs": [
    {
     "data": {
      "text/plain": [
       "3"
      ]
     },
     "execution_count": 71,
     "metadata": {},
     "output_type": "execute_result"
    }
   ],
   "source": [
    "Solution().numSquares(12)"
   ]
  },
  {
   "cell_type": "markdown",
   "metadata": {},
   "source": [
    "# 187. Repeated DNA Sequences\n",
    "All DNA is composed of a series of nucleotides abbreviated as A, C, G, and T, for example: \"ACGAATTCCG\". When studying DNA, it is sometimes useful to identify repeated sequences within the DNA.\n",
    "\n",
    "Write a function to find all the 10-letter-long sequences (substrings) that occur more than once in a DNA molecule.\n",
    "\n",
    "```\n",
    "Example:\n",
    "\n",
    "Input: s = \"AAAAACCCCCAAAAACCCCCCAAAAAGGGTTT\"\n",
    "\n",
    "Output: [\"AAAAACCCCC\", \"CCCCCAAAAA\"]\n",
    "```"
   ]
  },
  {
   "cell_type": "code",
   "execution_count": 95,
   "metadata": {},
   "outputs": [],
   "source": [
    "class Solution(object):\n",
    "    def findRepeatedDnaSequences(self, s):\n",
    "        \"\"\"\n",
    "        :type s: str\n",
    "        :rtype: List[str]\n",
    "        \"\"\"\n",
    "        _map = dict()\n",
    "        result = []\n",
    "        if len(s) < 10:\n",
    "            return []\n",
    "        for i in range(len(s) -9):\n",
    "            subseq = s[i: i+10]\n",
    "            if _map.get(subseq) == 1:\n",
    "                _map[subseq] += 1\n",
    "                result.append(subseq)\n",
    "            elif not _map.get(subseq):\n",
    "                _map[subseq] = 1\n",
    "            \n",
    "        return result"
   ]
  },
  {
   "cell_type": "code",
   "execution_count": 97,
   "metadata": {},
   "outputs": [
    {
     "data": {
      "text/plain": [
       "['AAAAACCCCC', 'CCCCCAAAAA']"
      ]
     },
     "execution_count": 97,
     "metadata": {},
     "output_type": "execute_result"
    }
   ],
   "source": [
    "Solution().findRepeatedDnaSequences(\"AAAAACCCCCAAAAACCCCCCAAAAAGGGTTT\")"
   ]
  },
  {
   "cell_type": "code",
   "execution_count": 99,
   "metadata": {},
   "outputs": [
    {
     "data": {
      "text/plain": [
       "['AAAAAAAAAA']"
      ]
     },
     "execution_count": 99,
     "metadata": {},
     "output_type": "execute_result"
    }
   ],
   "source": [
    "Solution().findRepeatedDnaSequences(\"AAAAAAAAAAAA\")"
   ]
  },
  {
   "cell_type": "markdown",
   "metadata": {},
   "source": [
    "# 205. Isomorphic Strings\n",
    "Given two strings s and t, determine if they are isomorphic.\n",
    "\n",
    "Two strings are isomorphic if the characters in s can be replaced to get t.\n",
    "\n",
    "All occurrences of a character must be replaced with another character while preserving the order of characters. No two characters may map to the same character but a character may map to itself.\n",
    "\n",
    "```\n",
    "Example 1:\n",
    "\n",
    "Input: s = \"egg\", t = \"add\"\n",
    "Output: true\n",
    "Example 2:\n",
    "\n",
    "Input: s = \"foo\", t = \"bar\"\n",
    "Output: false\n",
    "Example 3:\n",
    "\n",
    "Input: s = \"paper\", t = \"title\"\n",
    "Output: true\n",
    "```"
   ]
  },
  {
   "cell_type": "code",
   "execution_count": 10,
   "metadata": {},
   "outputs": [],
   "source": [
    "class Solution(object):\n",
    "    def isIsomorphic(self, s, t):\n",
    "        \"\"\"\n",
    "        :type s: str\n",
    "        :type t: str\n",
    "        :rtype: bool\n",
    "        \"\"\"\n",
    "        return self.extractConstruct(s) == self.extractConstruct(t)\n",
    "        \n",
    "    \n",
    "    def extractConstruct(self, s):\n",
    "        _tmp = dict()\n",
    "        cons = \"\"\n",
    "        for i in range(len(s)):\n",
    "            if _tmp.get(s[i]):\n",
    "                cons += _tmp[s[i]]\n",
    "            else:\n",
    "                _tmp[s[i]] = str(i)\n",
    "                cons += str(i)\n",
    "        return cons\n",
    "    def isIsomorphic2(self, s, t):\n",
    "        \"\"\"\n",
    "        :type s: str\n",
    "        :type t: str\n",
    "        :rtype: bool\n",
    "        \"\"\"\n",
    "        char_dt = dict()\n",
    "        for char_s, char_t in zip(s,t):\n",
    "            if char_s not in char_dt:\n",
    "                if  char_t not in char_dt.values():\n",
    "                    char_dt[char_s] = char_t\n",
    "                else:\n",
    "                    return False\n",
    "            else:\n",
    "                if char_dt[char_s] == char_t:\n",
    "                    pass\n",
    "                else:\n",
    "                    return False\n",
    "        return True\n",
    "            "
   ]
  },
  {
   "cell_type": "code",
   "execution_count": 11,
   "metadata": {},
   "outputs": [
    {
     "data": {
      "text/plain": [
       "False"
      ]
     },
     "execution_count": 11,
     "metadata": {},
     "output_type": "execute_result"
    }
   ],
   "source": [
    "Solution().isIsomorphic('foo', 'bar')"
   ]
  },
  {
   "cell_type": "markdown",
   "metadata": {},
   "source": [
    "# 204. Count Primes\n",
    "Count the number of prime numbers less than a non-negative number, n.\n",
    "\n",
    "```\n",
    "Example:\n",
    "\n",
    "Input: 10\n",
    "Output: 4\n",
    "Explanation: There are 4 prime numbers less than 10, they are 2, 3, 5, 7.\n",
    "```"
   ]
  },
  {
   "cell_type": "code",
   "execution_count": 77,
   "metadata": {},
   "outputs": [],
   "source": [
    "class Solution(object):\n",
    "    def countPrimes2(self, n):\n",
    "        \"\"\"\n",
    "        very quick solution, about O(sqrt(N))\n",
    "        \"\"\"\n",
    "        if n < 2:\n",
    "            return 0\n",
    "        s = [1] * n\n",
    "        s[0] = s[1] = 0\n",
    "        for i in range(2, int(n ** 0.5) + 1):\n",
    "            if s[i] == 1:\n",
    "                s[i*i:n:i] = [0] * int((n-i*i-1)/i + 1)\n",
    "        return sum(s)\n",
    "    def countPrimes(self, n):\n",
    "        \"\"\"\n",
    "        :type n: int\n",
    "        :rtype: int\n",
    "        \"\"\"\n",
    "        if n < 1:\n",
    "            return 0\n",
    "        dp = [0] * (n + 1)\n",
    "        dp[1] = 0\n",
    "        for i in range(2, n + 1):\n",
    "            if self.isPrime(i-1):\n",
    "                dp[i] = dp[i-1] + 1\n",
    "            else:\n",
    "                dp[i] = dp[i-1]\n",
    "        return dp[n]\n",
    "        \n",
    "    def isPrime(self, m):\n",
    "        if m < 2:\n",
    "            return False\n",
    "        import math\n",
    "        for i in range(2, m-1):\n",
    "            if i**2 <= m and m % i == 0:\n",
    "                return False\n",
    "        return True"
   ]
  },
  {
   "cell_type": "code",
   "execution_count": 76,
   "metadata": {},
   "outputs": [
    {
     "name": "stdout",
     "output_type": "stream",
     "text": [
      "00110101000101\n"
     ]
    },
    {
     "data": {
      "text/plain": [
       "6"
      ]
     },
     "execution_count": 76,
     "metadata": {},
     "output_type": "execute_result"
    }
   ],
   "source": [
    "Solution().countPrimes2(14)"
   ]
  },
  {
   "cell_type": "code",
   "execution_count": 57,
   "metadata": {},
   "outputs": [
    {
     "data": {
      "text/plain": [
       "True"
      ]
     },
     "execution_count": 57,
     "metadata": {},
     "output_type": "execute_result"
    }
   ],
   "source": [
    "Solution().isPrime(1)"
   ]
  },
  {
   "cell_type": "markdown",
   "metadata": {},
   "source": [
    "# 1. Two Sum\n",
    "Given an array of integers, return indices of the two numbers such that they add up to a specific target.\n",
    "\n",
    "You may assume that each input would have exactly one solution, and you may not use the same element twice.\n",
    "\n",
    "```\n",
    "Example:\n",
    "\n",
    "Given nums = [2, 7, 11, 15], target = 9,\n",
    "\n",
    "Because nums[0] + nums[1] = 2 + 7 = 9,\n",
    "return [0, 1].\n",
    "```"
   ]
  },
  {
   "cell_type": "code",
   "execution_count": 114,
   "metadata": {},
   "outputs": [],
   "source": [
    "class Solution(object):\n",
    "    def twoSum(self, nums, target):\n",
    "        \"\"\"\n",
    "        :type nums: List[int]\n",
    "        :type target: int\n",
    "        :rtype: List[int]\n",
    "        \"\"\"\n",
    "        if len(nums) == 1:\n",
    "            return [0] if nums[0] == target else []\n",
    "        \n",
    "        _ = dict()\n",
    "        \n",
    "        for i in range(len(nums)):\n",
    "            if nums[i] in _.keys():\n",
    "                return [_[nums[i]], i]\n",
    "            else:\n",
    "                _[target-nums[i]] = i\n",
    "        return None"
   ]
  },
  {
   "cell_type": "code",
   "execution_count": 115,
   "metadata": {},
   "outputs": [],
   "source": [
    "a = [2,7,11,5]"
   ]
  },
  {
   "cell_type": "code",
   "execution_count": 118,
   "metadata": {},
   "outputs": [
    {
     "data": {
      "text/plain": [
       "[1, 2]"
      ]
     },
     "execution_count": 118,
     "metadata": {},
     "output_type": "execute_result"
    }
   ],
   "source": [
    "Solution().twoSum(a, 18)"
   ]
  },
  {
   "cell_type": "markdown",
   "metadata": {},
   "source": [
    "# 442. Find All Duplicates in an Array\n",
    "Given an array of integers, 1 ≤ a[i] ≤ n (n = size of array), some elements appear twice and others appear once.\n",
    "\n",
    "Find all the elements that appear twice in this array.\n",
    "\n",
    "Could you do it without extra space and in O(n) runtime?\n",
    "\n",
    "Example:\n",
    "Input:\n",
    "[4,3,2,7,8,2,3,1]\n",
    "\n",
    "Output:\n",
    "[2,3]"
   ]
  },
  {
   "cell_type": "code",
   "execution_count": 125,
   "metadata": {},
   "outputs": [],
   "source": [
    "class Solution(object):\n",
    "    def findDuplicates(self, nums):\n",
    "        \"\"\"\n",
    "        :type nums: List[int]\n",
    "        :rtype: List[int]\n",
    "        \"\"\"\n",
    "        result = []\n",
    "        for i in range(len(nums)):\n",
    "            index = abs(nums[i])\n",
    "            \n",
    "            if nums[index - 1] >= 0:\n",
    "                nums[index -1] = - nums[index -1]\n",
    "            else:\n",
    "                result.append(abs(nums[i]))\n",
    "        return result"
   ]
  },
  {
   "cell_type": "code",
   "execution_count": 126,
   "metadata": {},
   "outputs": [
    {
     "data": {
      "text/plain": [
       "[2, 3]"
      ]
     },
     "execution_count": 126,
     "metadata": {},
     "output_type": "execute_result"
    }
   ],
   "source": [
    "Solution().findDuplicates([4,3,2,7,8,2,3,1])"
   ]
  },
  {
   "cell_type": "markdown",
   "metadata": {},
   "source": [
    "# 11. Container With Most Water\n",
    "Given n non-negative integers a1, a2, ..., an, where each represents a point at coordinate (i, ai). n vertical lines are drawn such that the two endpoints of line i is at (i, ai) and (i, 0). Find two lines, which together with x-axis forms a container, such that the container contains the most water.\n",
    "\n",
    "Note: You may not slant the container and n is at least 2."
   ]
  },
  {
   "cell_type": "code",
   "execution_count": 5,
   "metadata": {},
   "outputs": [],
   "source": [
    "class Solution(object):\n",
    "    def maxArea(self, height):\n",
    "        \"\"\"\n",
    "        :type height: List[int]\n",
    "        :rtype: int\n",
    "        \"\"\"\n",
    "        start = 0\n",
    "        end = len(height) -1\n",
    "        maxArea = 0\n",
    "        \n",
    "        while start < end:\n",
    "            maxArea = max(maxArea, (end-start) * min(height[start], height[end]))\n",
    "            if height[start] < height[end]:\n",
    "                start += 1\n",
    "            else:\n",
    "                end -= 1\n",
    "        return maxArea"
   ]
  },
  {
   "cell_type": "code",
   "execution_count": 6,
   "metadata": {},
   "outputs": [
    {
     "data": {
      "text/plain": [
       "10"
      ]
     },
     "execution_count": 6,
     "metadata": {},
     "output_type": "execute_result"
    }
   ],
   "source": [
    "Solution().maxArea([3,5,8,7])"
   ]
  },
  {
   "cell_type": "markdown",
   "metadata": {},
   "source": [
    "# 16. 3Sum Closest\n",
    "\n",
    "Given an array nums of n integers and an integer target, find three integers in nums such that the sum is closest to target. Return the sum of the three integers. You may assume that each input would have exactly one solution.\n",
    "```\n",
    "Example:\n",
    "\n",
    "Given array nums = [-1, 2, 1, -4], and target = 1.\n",
    "\n",
    "The sum that is closest to the target is 2. (-1 + 2 + 1 = 2).\n",
    "```"
   ]
  },
  {
   "cell_type": "code",
   "execution_count": 19,
   "metadata": {},
   "outputs": [],
   "source": [
    "class Solution(object):\n",
    "    def threeSumClosest(self, nums, target):\n",
    "        \"\"\"\n",
    "        :type nums: List[int]\n",
    "        :type target: int\n",
    "        :rtype: int\n",
    "        \"\"\"\n",
    "        import math\n",
    "        closestNum = math.inf\n",
    "        result = math.inf\n",
    "        nums.sort()\n",
    "        for i in range(len(nums) -2):\n",
    "            start = i + 1\n",
    "            end = len(nums) -1\n",
    "            while start < end:\n",
    "                _sum = nums[i] + nums[start] + nums[end]\n",
    "                _tmp = target - _sum\n",
    "                if _tmp < 0:\n",
    "                    end -= 1\n",
    "                if _tmp >= 0:\n",
    "                    start += 1\n",
    "                if abs(_tmp) < closestNum:\n",
    "                    closestNum = abs(_tmp)\n",
    "                    result = _sum\n",
    "        return result"
   ]
  },
  {
   "cell_type": "code",
   "execution_count": 20,
   "metadata": {},
   "outputs": [
    {
     "data": {
      "text/plain": [
       "2"
      ]
     },
     "execution_count": 20,
     "metadata": {},
     "output_type": "execute_result"
    }
   ],
   "source": [
    "Solution().threeSumClosest([-1, 2, 1, -4], 1)"
   ]
  },
  {
   "cell_type": "markdown",
   "metadata": {},
   "source": [
    "# 283. Move Zeroes\n",
    "Given an array nums, write a function to move all 0's to the end of it while maintaining the relative order of the non-zero elements.\n",
    "\n",
    "Example:\n",
    "\n",
    "Input: [0,1,0,3,12]\n",
    "Output: [1,3,12,0,0]\n",
    "Note:\n",
    "\n",
    "You must do this in-place without making a copy of the array.\n",
    "Minimize the total number of operations."
   ]
  },
  {
   "cell_type": "code",
   "execution_count": 59,
   "metadata": {},
   "outputs": [],
   "source": [
    "class Solution:\n",
    "    def moveZeroes(self, nums):\n",
    "        \"\"\"\n",
    "        :type nums: List[int]\n",
    "        :rtype: void Do not return anything, modify nums in-place instead.\n",
    "        \"\"\"\n",
    "        \n",
    "        notZeroIndex = -1\n",
    "        \n",
    "        for i in range(len(nums)):\n",
    "            if nums[i] != 0:\n",
    "                notZeroIndex += 1\n",
    "                nums[notZeroIndex] = nums[i]\n",
    "        for j in range(notZeroIndex + 1, len(nums)):\n",
    "            nums[j] = 0"
   ]
  },
  {
   "cell_type": "code",
   "execution_count": 63,
   "metadata": {},
   "outputs": [],
   "source": [
    "nums = [0,1,0,3,12]"
   ]
  },
  {
   "cell_type": "code",
   "execution_count": 64,
   "metadata": {},
   "outputs": [],
   "source": [
    "Solution().moveZeroes(nums)"
   ]
  },
  {
   "cell_type": "code",
   "execution_count": 65,
   "metadata": {},
   "outputs": [
    {
     "data": {
      "text/plain": [
       "[1, 3, 12, 0, 0]"
      ]
     },
     "execution_count": 65,
     "metadata": {},
     "output_type": "execute_result"
    }
   ],
   "source": [
    "nums"
   ]
  },
  {
   "cell_type": "markdown",
   "metadata": {},
   "source": [
    "# 522. Longest Uncommon Subsequence II\n",
    "Given a list of strings, you need to find the longest uncommon subsequence among them. The longest uncommon subsequence is defined as the longest subsequence of one of these strings and this subsequence should not be any subsequence of the other strings.\n",
    "\n",
    "A subsequence is a sequence that can be derived from one sequence by deleting some characters without changing the order of the remaining elements. Trivially, any string is a subsequence of itself and an empty string is a subsequence of any string.\n",
    "\n",
    "The input will be a list of strings, and the output needs to be the length of the longest uncommon subsequence. If the longest uncommon subsequence doesn't exist, return -1.\n",
    "\n",
    "```\n",
    "Example 1:\n",
    "Input: \"aba\", \"cdc\", \"eae\"\n",
    "Output: 3\n",
    "```\n",
    "Note:\n",
    "\n",
    "All the given strings' lengths will not exceed 10.\n",
    "The length of the given list will be in the range of [2, 50].\n"
   ]
  },
  {
   "cell_type": "code",
   "execution_count": null,
   "metadata": {},
   "outputs": [],
   "source": [
    "class Solution:\n",
    "    def findLUSlength(self, strs):\n",
    "        \"\"\"\n",
    "        :type strs: List[str]\n",
    "        :rtype: int\n",
    "        \"\"\"\n",
    "        dp = [0] * 10\n",
    "        \n",
    "        dp[0] = map()\n",
    "        \n",
    "        for i in range(10):\n",
    "            "
   ]
  },
  {
   "cell_type": "markdown",
   "metadata": {},
   "source": [
    "# 844. Backspace String Compare\n",
    "Given two strings S and T, return if they are equal when both are typed into empty text editors. # means a backspace character.\n",
    "```\n",
    "Example 1:\n",
    "\n",
    "Input: S = \"ab#c\", T = \"ad#c\"\n",
    "Output: true\n",
    "Explanation: Both S and T become \"ac\".\n",
    "Example 2:\n",
    "\n",
    "Input: S = \"ab##\", T = \"c#d#\"\n",
    "Output: true\n",
    "Explanation: Both S and T become \"\".\n",
    "Example 3:\n",
    "\n",
    "Input: S = \"a##c\", T = \"#a#c\"\n",
    "Output: true\n",
    "Explanation: Both S and T become \"c\".\n",
    "Example 4:\n",
    "\n",
    "Input: S = \"a#c\", T = \"b\"\n",
    "Output: false\n",
    "Explanation: S becomes \"c\" while T becomes \"b\".\n",
    "\n",
    "```\n",
    "Note:\n",
    "\n",
    "1 <= S.length <= 200\n",
    "1 <= T.length <= 200\n",
    "S and T only contain lowercase letters and '#' characters.\n",
    "Follow up:\n",
    "\n",
    "Can you solve it in O(N) time and O(1) space?"
   ]
  },
  {
   "cell_type": "code",
   "execution_count": 13,
   "metadata": {},
   "outputs": [],
   "source": [
    "class Solution:\n",
    "    def backspaceCompare(self, S, T):\n",
    "        \"\"\"\n",
    "        :type S: str\n",
    "        :type T: str\n",
    "        :rtype: bool\n",
    "        \"\"\"\n",
    "        return self.backspaceStr(S) == self.backspaceStr(T)\n",
    "        \n",
    "    def backspaceStr(self, S):\n",
    "        index = 0\n",
    "        res = \"\"\n",
    "        for i in range(len(S)):\n",
    "            if S[i] != '#':\n",
    "                index += 1\n",
    "                res += S[i]\n",
    "            else:\n",
    "                if index > 0:\n",
    "                    index -= 1\n",
    "                    res = res[:index]\n",
    "        return res\n",
    "                            "
   ]
  },
  {
   "cell_type": "code",
   "execution_count": 15,
   "metadata": {},
   "outputs": [
    {
     "data": {
      "text/plain": [
       "'ac'"
      ]
     },
     "execution_count": 15,
     "metadata": {},
     "output_type": "execute_result"
    }
   ],
   "source": [
    "Solution().backspaceStr('ab#c')"
   ]
  },
  {
   "cell_type": "markdown",
   "metadata": {},
   "source": [
    "# 687. Longest Univalue Path\n",
    "Given a binary tree, find the length of the longest path where each node in the path has the same value. This path may or may not pass through the root.\n",
    "\n",
    "Note: The length of path between two nodes is represented by the number of edges between them.\n",
    "```\n",
    "Example 1:\n",
    "\n",
    "Input:\n",
    "\n",
    "              5\n",
    "             / \\\n",
    "            4   5\n",
    "           / \\   \\\n",
    "          1   1   5\n",
    "Output:\n",
    "\n",
    "2\n",
    "Example 2:\n",
    "\n",
    "Input:\n",
    "\n",
    "              1\n",
    "             / \\\n",
    "            4   5\n",
    "           / \\   \\\n",
    "          4   4   5\n",
    "Output:\n",
    "\n",
    "2\n",
    "```"
   ]
  },
  {
   "cell_type": "code",
   "execution_count": 17,
   "metadata": {},
   "outputs": [],
   "source": [
    "# Definition for a binary tree node.\n",
    "class TreeNode:\n",
    "    def __init__(self, x):\n",
    "        self.val = x\n",
    "        self.left = None\n",
    "        self.right = None\n",
    "\n",
    "class Solution:\n",
    "    def longestUnivaluePath(self, root):\n",
    "        \"\"\"\n",
    "        :type root: TreeNode\n",
    "        :rtype: int\n",
    "        \"\"\"\n",
    "        if root is None:\n",
    "            return 0\n",
    "        self.cur_max = -100\n",
    "        \n",
    "        def getPathLength(root, pre_val):\n",
    "            if root.left is None and root.right is None:\n",
    "                if root.val == pre_val:\n",
    "                    return 1\n",
    "                else:\n",
    "                    return 0\n",
    "            left = right = 0\n",
    "            \n",
    "            if root.left:\n",
    "                left = getPathLength(root.left, root.val)\n",
    "            if root.right:\n",
    "                right = getPathLength(root.right, root.val)\n",
    "            self.cur_max = max(self.cur_max, left + right)\n",
    "            if root.val == pre_val:\n",
    "                return 1 + max(left, right)\n",
    "            else:\n",
    "                return 0\n",
    "        return max(getPathLength(root, -root.val) , self.cur_max)"
   ]
  },
  {
   "cell_type": "markdown",
   "metadata": {},
   "source": [
    "# 698. Partition to K Equal Sum Subsets\n",
    "Given an array of integers nums and a positive integer k, find whether it's possible to divide this array into k non-empty subsets whose sums are all equal.\n",
    "```\n",
    "Example 1:\n",
    "Input: nums = [4, 3, 2, 3, 5, 2, 1], k = 4\n",
    "Output: True\n",
    "Explanation: It's possible to divide it into 4 subsets (5), (1, 4), (2,3), (2,3) with equal sums.\n",
    "```\n",
    "Note:\n",
    "\n",
    "1 <= k <= len(nums) <= 16.\n",
    "0 < nums[i] < 10000."
   ]
  },
  {
   "cell_type": "code",
   "execution_count": 18,
   "metadata": {},
   "outputs": [],
   "source": [
    " 8\n",
    "class Solution(object):\n",
    "    def canPartitionKSubsets(self, nums, k):\n",
    "        \"\"\"\n",
    "        :type nums: List[int]\n",
    "        :type k: int\n",
    "        :rtype: bool\n",
    "        \"\"\"\n",
    "        visit = [0 for i in range(len(nums))]\n",
    "        target= sum(nums) // k\n",
    "        def DFS(k, fromindex, cursum):\n",
    "            if k == 1 and cursum == target:\n",
    "                return True\n",
    "            if cursum == target:\n",
    "                return DFS(k-1, 0, 0)\n",
    "            else:\n",
    "                for i in range(fromindex, len(nums)):\n",
    "                    if nums[i] + cursum <= target and not visit[i]:\n",
    "                        visit[i] = 1\n",
    "                        if DFS(k, i + 1, cursum + nums[i]):\n",
    "                            return True\n",
    "                        visit[i] = 0\n",
    "                return False\n",
    "        if sum(nums) % k != 0 or k > sum(nums):\n",
    "            return False\n",
    "        return DFS(k, 0, 0)"
   ]
  },
  {
   "cell_type": "code",
   "execution_count": 19,
   "metadata": {},
   "outputs": [
    {
     "data": {
      "text/plain": [
       "True"
      ]
     },
     "execution_count": 19,
     "metadata": {},
     "output_type": "execute_result"
    }
   ],
   "source": [
    "Solution().canPartitionKSubsets([4, 3, 2, 3, 5, 2, 1], 4)"
   ]
  },
  {
   "cell_type": "code",
   "execution_count": 20,
   "metadata": {},
   "outputs": [],
   "source": [
    "a = ['a','b','c','d']"
   ]
  },
  {
   "cell_type": "markdown",
   "metadata": {},
   "source": [
    "# 794. Valid Tic-Tac-Toe State\n",
    "A Tic-Tac-Toe board is given as a string array board. Return True if and only if it is possible to reach this board position during the course of a valid tic-tac-toe game.\n",
    "\n",
    "The board is a 3 x 3 array, and consists of characters \" \", \"X\", and \"O\".  The \" \" character represents an empty square.\n",
    "\n",
    "Here are the rules of Tic-Tac-Toe:\n",
    "\n",
    "Players take turns placing characters into empty squares (\" \").\n",
    "The first player always places \"X\" characters, while the second player always places \"O\" characters.\n",
    "\"X\" and \"O\" characters are always placed into empty squares, never filled ones.\n",
    "The game ends when there are 3 of the same (non-empty) character filling any row, column, or diagonal.\n",
    "The game also ends if all squares are non-empty.\n",
    "No more moves can be played if the game is over.\n",
    "```\n",
    "Example 1:\n",
    "Input: board = [\"O  \", \"   \", \"   \"]\n",
    "Output: false\n",
    "Explanation: The first player always plays \"X\".\n",
    "\n",
    "Example 2:\n",
    "Input: board = [\"XOX\", \" X \", \"   \"]\n",
    "Output: false\n",
    "Explanation: Players take turns making moves.\n",
    "\n",
    "Example 3:\n",
    "Input: board = [\"XXX\", \"   \", \"OOO\"]\n",
    "Output: false\n",
    "\n",
    "Example 4:\n",
    "Input: board = [\"XOX\", \"O O\", \"XOX\"]\n",
    "Output: true\n",
    "```\n",
    "Note:\n",
    "\n",
    "board is a length-3 array of strings, where each string board[i] has length 3.\n",
    "Each board[i][j] is a character in the set {\" \", \"X\", \"O\"}."
   ]
  },
  {
   "cell_type": "markdown",
   "metadata": {},
   "source": [
    "# 779. K-th Symbol in Grammar\n",
    "\n",
    "On the first row, we write a 0. Now in every subsequent row, we look at the previous row and replace each occurrence of 0 with 01, and each occurrence of 1 with 10.\n",
    "\n",
    "Given row N and index K, return the K-th indexed symbol in row N. (The values of K are 1-indexed.) (1 indexed).\n",
    "```\n",
    "Examples:\n",
    "Input: N = 1, K = 1\n",
    "Output: 0\n",
    "\n",
    "Input: N = 2, K = 1\n",
    "Output: 0\n",
    "\n",
    "Input: N = 2, K = 2\n",
    "Output: 1\n",
    "\n",
    "Input: N = 4, K = 5\n",
    "Output: 1\n",
    "\n",
    "Explanation:\n",
    "row 1: 0\n",
    "row 2: 01\n",
    "row 3: 0110\n",
    "row 4: 01101001\n",
    "```"
   ]
  },
  {
   "cell_type": "code",
   "execution_count": 47,
   "metadata": {},
   "outputs": [],
   "source": [
    "class Solution:\n",
    "    def kthGrammar(self, N, K):\n",
    "        \"\"\"\n",
    "        :type N: int\n",
    "        :type K: int\n",
    "        :rtype: int\n",
    "        \"\"\"\n",
    "        i = 0\n",
    "        K = K-1\n",
    "        while K:\n",
    "            i += K&1\n",
    "            K >>= 1\n",
    "        return i%2"
   ]
  },
  {
   "cell_type": "code",
   "execution_count": 48,
   "metadata": {},
   "outputs": [
    {
     "data": {
      "text/plain": [
       "1"
      ]
     },
     "execution_count": 48,
     "metadata": {},
     "output_type": "execute_result"
    }
   ],
   "source": [
    "Solution().kthGrammar(30,5)"
   ]
  },
  {
   "cell_type": "markdown",
   "metadata": {},
   "source": [
    "# 278. First Bad Version\n",
    "You are a product manager and currently leading a team to develop a new product. Unfortunately, the latest version of your product fails the quality check. Since each version is developed based on the previous version, all the versions after a bad version are also bad.\n",
    "\n",
    "Suppose you have n versions [1, 2, ..., n] and you want to find out the first bad one, which causes all the following ones to be bad.\n",
    "\n",
    "You are given an API bool isBadVersion(version) which will return whether version is bad. Implement a function to find the first bad version. You should minimize the number of calls to the API.\n",
    "\n",
    "```\n",
    "Example:\n",
    "\n",
    "Given n = 5, and version = 4 is the first bad version.\n",
    "\n",
    "call isBadVersion(3) -> false\n",
    "call isBadVersion(5) -> true\n",
    "call isBadVersion(4) -> true\n",
    "Then 4 is the first bad version. \n",
    "```"
   ]
  },
  {
   "cell_type": "code",
   "execution_count": 51,
   "metadata": {},
   "outputs": [],
   "source": [
    "# The isBadVersion API is already defined for you.\n",
    "# @param version, an integer\n",
    "# @return a bool\n",
    "# def isBadVersion(version):\n",
    "\n",
    "class Solution:\n",
    "    def firstBadVersion(self, n):\n",
    "        \"\"\"\n",
    "        :type n: int\n",
    "        :rtype: int\n",
    "        \"\"\"\n",
    "        for i in reversed(range(n)):\n",
    "            if not isBadVersion(n+1):\n",
    "                return n+2"
   ]
  },
  {
   "cell_type": "markdown",
   "metadata": {},
   "source": [
    "# 69. Sqrt(x)\n",
    "Implement int sqrt(int x).\n",
    "\n",
    "Compute and return the square root of x, where x is guaranteed to be a non-negative integer.\n",
    "\n",
    "Since the return type is an integer, the decimal digits are truncated and only the integer part of the result is returned.\n",
    "\n",
    "```\n",
    "Example 1:\n",
    "\n",
    "Input: 4\n",
    "Output: 2\n",
    "Example 2:\n",
    "\n",
    "Input: 8\n",
    "Output: 2\n",
    "Explanation: The square root of 8 is 2.82842..., and since \n",
    "             the decimal part is truncated, 2 is returned.\n",
    "```"
   ]
  },
  {
   "cell_type": "code",
   "execution_count": 80,
   "metadata": {},
   "outputs": [],
   "source": [
    "class Solution:\n",
    "    def mySqrt(self, x):\n",
    "        \"\"\"\n",
    "        :type x: int\n",
    "        :rtype: int\n",
    "        \"\"\"\n",
    "        if x == 0:\n",
    "            return 0\n",
    "        _min, _max = 1, x\n",
    "        mid = 0\n",
    "        while (_max - _min) > 1:\n",
    "            mid = (_min + _max) // 2\n",
    "            if mid * mid > x:\n",
    "                _max = mid\n",
    "            else:\n",
    "                _min = mid\n",
    "        return _min"
   ]
  },
  {
   "cell_type": "code",
   "execution_count": 81,
   "metadata": {},
   "outputs": [
    {
     "data": {
      "text/plain": [
       "4"
      ]
     },
     "execution_count": 81,
     "metadata": {},
     "output_type": "execute_result"
    }
   ],
   "source": [
    "Solution().mySqrt(20)"
   ]
  },
  {
   "cell_type": "markdown",
   "metadata": {},
   "source": [
    "# 350. Intersection of Two Arrays II\n",
    "Given two arrays, write a function to compute their intersection.\n",
    "\n",
    "Example:\n",
    "Given nums1 = [1, 2, 2, 1], nums2 = [2, 2], return [2, 2].\n",
    "\n",
    "Note:\n",
    "Each element in the result should appear as many times as it shows in both arrays.\n",
    "The result can be in any order.\n",
    "Follow up:\n",
    "<ul>\n",
    "    <li>What if the given array is already sorted? How would you optimize your algorithm?</li>\n",
    "    <li>What if nums1's size is small compared to nums2's size? Which algorithm is better?</li>\n",
    "    <li>What if elements of nums2 are stored on disk, and the memory is limited such that you cannot load all elements into the memory at once?</li>\n",
    "</ul>"
   ]
  },
  {
   "cell_type": "code",
   "execution_count": 14,
   "metadata": {},
   "outputs": [],
   "source": [
    "class Solution:\n",
    "    def intersect(self, nums1, nums2):\n",
    "        \"\"\"\n",
    "        :type nums1: List[int]\n",
    "        :type nums2: List[int]\n",
    "        :rtype: List[int]\n",
    "        \"\"\"\n",
    "        _dict = dict()\n",
    "        result = []\n",
    "        for i in nums1:\n",
    "            if _dict.get(i) is None: \n",
    "                _dict[i] = 1\n",
    "            else:\n",
    "                _dict[i] += 1\n",
    "        \n",
    "        for j in nums2:\n",
    "            _tmp = _dict.get(j)\n",
    "            if _tmp is not None and _tmp > 0:\n",
    "                result.append(j)\n",
    "                _dict[j] -= 1\n",
    "        return result"
   ]
  },
  {
   "cell_type": "code",
   "execution_count": 15,
   "metadata": {},
   "outputs": [],
   "source": [
    "nums1 = [1, 2, 2, 1]\n",
    "nums2 = [2,2]"
   ]
  },
  {
   "cell_type": "code",
   "execution_count": 13,
   "metadata": {},
   "outputs": [
    {
     "data": {
      "text/plain": [
       "[2, 2]"
      ]
     },
     "execution_count": 13,
     "metadata": {},
     "output_type": "execute_result"
    }
   ],
   "source": [
    "Solution().intersect(nums1, nums2)"
   ]
  },
  {
   "cell_type": "markdown",
   "metadata": {},
   "source": [
    "# 38. Count and Say\n",
    "The count-and-say sequence is the sequence of integers with the first five terms as following:\n",
    "```\n",
    "1.     1\n",
    "2.     11\n",
    "3.     21\n",
    "4.     1211\n",
    "5.     111221\n",
    "```\n",
    "1 is read off as \"one 1\" or 11.\n",
    "11 is read off as \"two 1s\" or 21.\n",
    "21 is read off as \"one 2, then one 1\" or 1211.\n",
    "Given an integer n, generate the nth term of the count-and-say sequence.\n",
    "\n",
    "Note: Each term of the sequence of integers will be represented as a string.\n",
    "\n",
    "```\n",
    "Example 1:\n",
    "\n",
    "Input: 1\n",
    "Output: \"1\"\n",
    "Example 2:\n",
    "\n",
    "Input: 4\n",
    "Output: \"1211\"\n",
    "```"
   ]
  },
  {
   "cell_type": "code",
   "execution_count": 22,
   "metadata": {},
   "outputs": [],
   "source": [
    "class Solution:\n",
    "    def countAndSay(self, n):\n",
    "        \"\"\"\n",
    "        :type n: int\n",
    "        :rtype: str\n",
    "        \"\"\"\n",
    "        if n == 1:\n",
    "            return '1'\n",
    "        \n",
    "        lastNum = self.countAndSay(n-1)\n",
    "        \n",
    "        currentNum = lastNum[0]\n",
    "        result = \"\"\n",
    "        time = 0\n",
    "        for i in lastNum:\n",
    "            if i == currentNum:\n",
    "                time += 1\n",
    "            else:\n",
    "                result = result + str(time) + currentNum\n",
    "                currentNum = i\n",
    "                time = 1\n",
    "        result = result + str(time) + currentNum\n",
    "        return result"
   ]
  },
  {
   "cell_type": "code",
   "execution_count": 25,
   "metadata": {},
   "outputs": [
    {
     "data": {
      "text/plain": [
       "'312211'"
      ]
     },
     "execution_count": 25,
     "metadata": {},
     "output_type": "execute_result"
    }
   ],
   "source": [
    "Solution().countAndSay(6)"
   ]
  },
  {
   "cell_type": "markdown",
   "metadata": {},
   "source": [
    "# 58. Length of Last Word\n",
    "Given a string s consists of upper/lower-case alphabets and empty space characters ' ', return the length of last word in the string.\n",
    "\n",
    "If the last word does not exist, return 0.\n",
    "\n",
    "Note: A word is defined as a character sequence consists of non-space characters only.\n",
    "\n",
    "Example:\n",
    "\n",
    "Input: \"Hello World\"\n",
    "Output: 5"
   ]
  },
  {
   "cell_type": "code",
   "execution_count": 19,
   "metadata": {},
   "outputs": [],
   "source": [
    "class Solution:\n",
    "    def lengthOfLastWord(self, s):\n",
    "        \"\"\"\n",
    "        :type s: str\n",
    "        :rtype: int\n",
    "        \"\"\"\n",
    "        result = 0\n",
    "        s = s.strip()\n",
    "        for i in s:\n",
    "            if i == ' ':\n",
    "                result = 0\n",
    "            else:\n",
    "                result += 1\n",
    "        return result"
   ]
  },
  {
   "cell_type": "code",
   "execution_count": 20,
   "metadata": {},
   "outputs": [
    {
     "data": {
      "text/plain": [
       "5"
      ]
     },
     "execution_count": 20,
     "metadata": {},
     "output_type": "execute_result"
    }
   ],
   "source": [
    "Solution().lengthOfLastWord(\"Hello World \")"
   ]
  },
  {
   "cell_type": "markdown",
   "metadata": {},
   "source": [
    "# 537. Complex Number Multiplication\n",
    "Given two strings representing two complex numbers.\n",
    "\n",
    "You need to return a string representing their multiplication. Note i2 = -1 according to the definition.\n",
    "```\n",
    "Example 1:\n",
    "Input: \"1+1i\", \"1+1i\"\n",
    "Output: \"0+2i\"\n",
    "Explanation: (1 + i) * (1 + i) = 1 + i2 + 2 * i = 2i, and you need convert it to the form of 0+2i.\n",
    "Example 2:\n",
    "Input: \"1+-1i\", \"1+-1i\"\n",
    "Output: \"0+-2i\"\n",
    "Explanation: (1 - i) * (1 - i) = 1 + i2 - 2 * i = -2i, and you need convert it to the form of 0+-2i.\n",
    "```\n",
    "Note:\n",
    "\n",
    "The input strings will not have extra blank.\n",
    "The input strings will be given in the form of a+bi, where the integer a and b will both belong to the range of [-100, 100]. And the output should be also in this form.\n"
   ]
  },
  {
   "cell_type": "code",
   "execution_count": 36,
   "metadata": {},
   "outputs": [],
   "source": [
    "class Solution:\n",
    "    def complexNumberMultiply(self, a, b):\n",
    "        \"\"\"\n",
    "        :type a: str\n",
    "        :type b: str\n",
    "        :rtype: str\n",
    "        \"\"\"\n",
    "        a1, b1 = self.getTwoParts(a)\n",
    "        a2, b2 = self.getTwoParts(b)\n",
    "        return str(a1*a2-b1*b2) + '+' + str(a1*b2 + a2*b1) + 'i'\n",
    "        \n",
    "    def getTwoParts(self, s):\n",
    "        \"\"\"\n",
    "        :type s: str\n",
    "        :rtype: (int, int)\n",
    "        \"\"\"\n",
    "        strLen = len(s)\n",
    "        plusIndex = s.index('+')\n",
    "        a = s[:plusIndex]\n",
    "        b = s[plusIndex+1: strLen-1]\n",
    "        return int(a), int(b)"
   ]
  },
  {
   "cell_type": "code",
   "execution_count": 39,
   "metadata": {},
   "outputs": [
    {
     "data": {
      "text/plain": [
       "'0+2i'"
      ]
     },
     "execution_count": 39,
     "metadata": {},
     "output_type": "execute_result"
    }
   ],
   "source": [
    "Solution().complexNumberMultiply('1+1i', '1+1i')"
   ]
  },
  {
   "cell_type": "code",
   "execution_count": 35,
   "metadata": {},
   "outputs": [
    {
     "data": {
      "text/plain": [
       "('-3', '4')"
      ]
     },
     "execution_count": 35,
     "metadata": {},
     "output_type": "execute_result"
    }
   ],
   "source": [
    "Solution().getTwoParts('-3+4i')"
   ]
  },
  {
   "cell_type": "code",
   "execution_count": 31,
   "metadata": {},
   "outputs": [
    {
     "data": {
      "text/plain": [
       "2"
      ]
     },
     "execution_count": 31,
     "metadata": {},
     "output_type": "execute_result"
    }
   ],
   "source": [
    "'-3+4i'.index('+')"
   ]
  },
  {
   "cell_type": "markdown",
   "metadata": {},
   "source": [
    "# 94. Binary Tree Inorder Traversal\n",
    "Given a binary tree, return the inorder traversal of its nodes' values.\n",
    "\n",
    "```\n",
    "Example:\n",
    "\n",
    "Input: [1,null,2,3]\n",
    "   1\n",
    "    \\\n",
    "     2\n",
    "    /\n",
    "   3\n",
    "```\n",
    "Output: [1,3,2]\n",
    "Follow up: Recursive solution is trivial, could you do it iteratively?"
   ]
  },
  {
   "cell_type": "code",
   "execution_count": 2,
   "metadata": {},
   "outputs": [],
   "source": [
    "# Definition for a binary tree node.\n",
    "class TreeNode:\n",
    "    def __init__(self, x):\n",
    "        self.val = x\n",
    "        self.left = None\n",
    "        self.right = None\n",
    "\n",
    "class Solution:\n",
    "    def inorderTraversal(self, root):\n",
    "        \"\"\"\n",
    "        :type root: TreeNode\n",
    "        :rtype: List[int]\n",
    "        \"\"\"\n",
    "        result = []\n",
    "        self.inorder(root, result)\n",
    "        return result\n",
    "        \n",
    "    def inorder(self, root, result):\n",
    "        if root is None:\n",
    "            return \n",
    "        left = self.inorder(root.left, result)\n",
    "        result.append(root.val)\n",
    "        right = self.inorder(root.right, result)"
   ]
  },
  {
   "cell_type": "code",
   "execution_count": 7,
   "metadata": {},
   "outputs": [],
   "source": [
    "# Definition for a binary tree node.\n",
    "class TreeNode:\n",
    "    def __init__(self, x):\n",
    "        self.val = x\n",
    "        self.left = None\n",
    "        self.right = None\n",
    "\n",
    "class Solution:\n",
    "    def inorderTraversal(self, root):\n",
    "        \"\"\"\n",
    "        :type root: TreeNode\n",
    "        :rtype: List[int]\n",
    "        \"\"\"\n",
    "        result = []\n",
    "        if root is not None:\n",
    "            stack = []\n",
    "            while len(stack) or root is not None:\n",
    "                if root is not None:\n",
    "                    stack.append(root)\n",
    "                    root = root.left\n",
    "                else:\n",
    "                    root = stack.pop()\n",
    "                    result.append(root.val)\n",
    "                    root = root.right\n",
    "        return result"
   ]
  },
  {
   "cell_type": "markdown",
   "metadata": {},
   "source": [
    "# 863. All Nodes Distance K in Binary Tree\n",
    "We are given a binary tree (with root node root), a target node, and an integer value K.\n",
    "\n",
    "Return a list of the values of all nodes that have a distance K from the target node.  The answer can be returned in any order.\n",
    "\n",
    " \n",
    "```\n",
    "Example 1:\n",
    "\n",
    "Input: root = [3,5,1,6,2,0,8,null,null,7,4], target = 5, K = 2\n",
    "\n",
    "Output: [7,4,1]\n",
    "\n",
    "Explanation: \n",
    "The nodes that are a distance 2 from the target node (with value 5)\n",
    "have values 7, 4, and 1.\n",
    "\n",
    "\n",
    "Note that the inputs \"root\" and \"target\" are actually TreeNodes.\n",
    "The descriptions of the inputs above are just serializations of these objects.\n",
    "```\n",
    "<img src='https://s3-lc-upload.s3.amazonaws.com/uploads/2018/06/28/sketch0.png' width='30%' height='30%' />\n",
    "\n",
    "```\n",
    "Note:\n",
    "\n",
    "The given tree is non-empty.\n",
    "Each node in the tree has unique values 0 <= node.val <= 500.\n",
    "The target node is a node in the tree.\n",
    "0 <= K <= 1000.\n",
    "```"
   ]
  },
  {
   "cell_type": "code",
   "execution_count": 20,
   "metadata": {},
   "outputs": [],
   "source": [
    "# Definition for a binary tree node.\n",
    "class TreeNode:\n",
    "    def __init__(self, x):\n",
    "        self.val = x\n",
    "        self.left = None\n",
    "        self.right = None\n",
    "\n",
    "class Solution:\n",
    "    def distanceK(self, root, target, K):\n",
    "        \"\"\"\n",
    "        :type root: TreeNode\n",
    "        :type target: TreeNode\n",
    "        :type K: int\n",
    "        :rtype: List[int]\n",
    "        \"\"\"\n",
    "        parent = {}\n",
    "        visited = {}\n",
    "        def dfs(parent, pre, curr, visited):\n",
    "            if not curr:\n",
    "                return\n",
    "            visited[curr] = False\n",
    "            parent[curr] = pre\n",
    "            dfs(parent, curr, curr.left, visited)\n",
    "            dfs(parent, curr, curr.right, visited)\n",
    "        \n",
    "        dfs(parent, None, root, visited)\n",
    "        \n",
    "        dis = 0\n",
    "        queue = []\n",
    "        queue.append(target)\n",
    "        \n",
    "        while len(queue) != 0:\n",
    "            if dis == K:\n",
    "                break\n",
    "            tmp = []\n",
    "            for node in queue:\n",
    "                visited[node] = True\n",
    "                if node.left != None and visited[node.left] == False:\n",
    "                    tmp.append(node.left)\n",
    "                if node.right != None and visited[node.right] == False:\n",
    "                    tmp.append(node.right)\n",
    "                if parent[node] != None and visited[parent[node]] == False:\n",
    "                    tmp.append(parent[node])\n",
    "            queue = tmp\n",
    "            dis += 1\n",
    "        res = [node.val for node in queue]\n",
    "        return res"
   ]
  },
  {
   "cell_type": "markdown",
   "metadata": {},
   "source": [
    "# 337. House Robber III\n",
    "DescriptionHintsSubmissionsDiscussSolution\n",
    "The thief has found himself a new place for his thievery again. There is only one entrance to this area, called the \"root.\" Besides the root, each house has one and only one parent house. After a tour, the smart thief realized that \"all houses in this place forms a binary tree\". It will automatically contact the police if two directly-linked houses were broken into on the same night.\n",
    "\n",
    "Determine the maximum amount of money the thief can rob tonight without alerting the police.\n",
    "```\n",
    "Example 1:\n",
    "     3\n",
    "    / \\\n",
    "   2   3\n",
    "    \\   \\ \n",
    "     3   1\n",
    "Maximum amount of money the thief can rob = 3 + 3 + 1 = 7.\n",
    "Example 2:\n",
    "     3\n",
    "    / \\\n",
    "   4   5\n",
    "  / \\   \\ \n",
    " 1   3   1\n",
    "Maximum amount of money the thief can rob = 4 + 5 = 9.\n",
    "```\n",
    "Credits:\n",
    "Special thanks to @dietpepsi for adding this problem and creating all test cases."
   ]
  },
  {
   "cell_type": "code",
   "execution_count": null,
   "metadata": {},
   "outputs": [],
   "source": [
    "# Definition for a binary tree node.\n",
    "class TreeNode:\n",
    "    def __init__(self, x):\n",
    "        self.val = x\n",
    "        self.left = None\n",
    "        self.right = None\n",
    "\n",
    "class Solution:\n",
    "    def rob(self, root):\n",
    "        \"\"\"\n",
    "        :type root: TreeNode\n",
    "        :rtype: int\n",
    "        \"\"\"\n",
    "        def helper(root):\n",
    "            if not root:\n",
    "                return [0,0]\n",
    "            \n",
    "            left = helper(root.left)\n",
    "            right = helper(root.right)\n",
    "            \n",
    "            ans = [root.val + left[1] + right[1], max(left) + max(right)]\n",
    "            return ans\n",
    "        \n",
    "        return max(helper(root))"
   ]
  },
  {
   "cell_type": "markdown",
   "metadata": {},
   "source": [
    "# 230. Kth Smallest Element in a BST\n",
    "Given a binary search tree, write a function kthSmallest to find the kth smallest element in it.\n",
    "\n",
    "Note: \n",
    "You may assume k is always valid, 1 ≤ k ≤ BST's total elements.\n",
    "\n",
    "```\n",
    "Example 1:\n",
    "\n",
    "Input: root = [3,1,4,null,2], k = 1\n",
    "   3\n",
    "  / \\\n",
    " 1   4\n",
    "  \\\n",
    "   2\n",
    "Output: 1\n",
    "Example 2:\n",
    "\n",
    "Input: root = [5,3,6,2,4,null,null,1], k = 3\n",
    "       5\n",
    "      / \\\n",
    "     3   6\n",
    "    / \\\n",
    "   2   4\n",
    "  /\n",
    " 1\n",
    "Output: 3\n",
    "```\n",
    "Follow up:\n",
    "What if the BST is modified (insert/delete operations) often and you need to find the kth smallest frequently? How would you optimize the kthSmallest routine?"
   ]
  },
  {
   "cell_type": "code",
   "execution_count": 1,
   "metadata": {},
   "outputs": [],
   "source": [
    "# Definition for a binary tree node.\n",
    "class TreeNode:\n",
    "    def __init__(self, x):\n",
    "        self.val = x\n",
    "        self.left = None\n",
    "        self.right = None\n",
    "\n",
    "class Solution:\n",
    "    def kthSmallest(self, root, k):\n",
    "        \"\"\"\n",
    "        :type root: TreeNode\n",
    "        :type k: int\n",
    "        :rtype: int\n",
    "        \"\"\"\n",
    "        output = []\n",
    "        self.midTraverse(root, output)\n",
    "        return output[k-1]\n",
    "        \n",
    "    def midTraverse(self, root, output):\n",
    "        \"\"\"\n",
    "        :type root: TreeNode\n",
    "        :type output: Array(Int)\n",
    "        \"\"\"\n",
    "        if root == None:\n",
    "            return\n",
    "        self.midTraverse(root.left, output)\n",
    "        output.append(root.val)\n",
    "        self.midTraverse(root.right, output)"
   ]
  },
  {
   "cell_type": "code",
   "execution_count": 2,
   "metadata": {},
   "outputs": [],
   "source": [
    "# Definition for a binary tree node.\n",
    "class TreeNode:\n",
    "    def __init__(self, x):\n",
    "        self.val = x\n",
    "        self.left = None\n",
    "        self.right = None\n",
    "\n",
    "class Solution:\n",
    "    def kthSmallest(self, root, k):\n",
    "        \"\"\"\n",
    "        :type root: TreeNode\n",
    "        :type k: int\n",
    "        :rtype: int\n",
    "        \"\"\"\n",
    "        if root != None:\n",
    "            stack = []\n",
    "            time = 1\n",
    "            while len(stack) > 0 or root != None:\n",
    "                if root != None:\n",
    "                    stack.append(root)\n",
    "                    root = root.left\n",
    "                else:\n",
    "                    if time == k:\n",
    "                        return stack.pop().val\n",
    "                    else:\n",
    "                        root = stack.pop()\n",
    "                        time += 1\n",
    "                        root = root.right"
   ]
  },
  {
   "cell_type": "markdown",
   "metadata": {},
   "source": [
    "# 623. Add One Row to Tree\n",
    "Given the root of a binary tree, then value v and depth d, you need to add a row of nodes with value v at the given depth d. The root node is at depth 1.\n",
    "\n",
    "The adding rule is: given a positive integer depth d, for each NOT null tree nodes N in depth d-1, create two tree nodes with value v as N's left subtree root and right subtree root. And N's original left subtree should be the left subtree of the new left subtree root, its original right subtree should be the right subtree of the new right subtree root. If depth d is 1 that means there is no depth d-1 at all, then create a tree node with value v as the new root of the whole original tree, and the original tree is the new root's left subtree.\n",
    "```\n",
    "Example 1:\n",
    "Input: \n",
    "A binary tree as following:\n",
    "       4\n",
    "     /   \\\n",
    "    2     6\n",
    "   / \\   / \n",
    "  3   1 5   \n",
    "\n",
    "v = 1\n",
    "\n",
    "d = 2\n",
    "\n",
    "Output: \n",
    "       4\n",
    "      / \\\n",
    "     1   1\n",
    "    /     \\\n",
    "   2       6\n",
    "  / \\     / \n",
    " 3   1   5   \n",
    "\n",
    "Example 2:\n",
    "Input: \n",
    "A binary tree as following:\n",
    "      4\n",
    "     /   \n",
    "    2    \n",
    "   / \\   \n",
    "  3   1    \n",
    "\n",
    "v = 1\n",
    "\n",
    "d = 3\n",
    "\n",
    "Output: \n",
    "      4\n",
    "     /   \n",
    "    2\n",
    "   / \\    \n",
    "  1   1\n",
    " /     \\  \n",
    "3       1\n",
    "```\n",
    "Note:\n",
    "The given d is in range [1, maximum depth of the given tree + 1].\n",
    "The given binary tree has at least one tree node."
   ]
  },
  {
   "cell_type": "code",
   "execution_count": 3,
   "metadata": {},
   "outputs": [],
   "source": [
    "class Solution:\n",
    "    def addOneRow(self, root, v, d):\n",
    "        \"\"\"\n",
    "        :type root: TreeNode\n",
    "        :type v: int\n",
    "        :type d: int\n",
    "        :rtype: TreeNode\n",
    "        \"\"\"\n",
    "        if d == 1:\n",
    "            newNode = TreeNode(v)\n",
    "            newNode.left = root\n",
    "            return newNode\n",
    "        \n",
    "        def recur(root, h, d, v):\n",
    "            if not root:\n",
    "                return            \n",
    "            if h == d - 1:\n",
    "                duml, dumr = root.left, root.right\n",
    "                root.left, root.right = TreeNode(v), TreeNode(v)\n",
    "                root.left.left, root.right.right = duml, dumr\n",
    "            else:\n",
    "                recur(root.left, h+1, d, v)\n",
    "                recur(root.right, h+1, d, v)\n",
    "            \n",
    "        recur(root, 1, d, v)\n",
    "        return root"
   ]
  },
  {
   "cell_type": "markdown",
   "metadata": {},
   "source": [
    "# 46 Permutations\n",
    "Given a collection of distinct integers, return all possible permutations.\n",
    "```\n",
    "Example:\n",
    "\n",
    "Input: [1,2,3]\n",
    "Output:\n",
    "[\n",
    "  [1,2,3],\n",
    "  [1,3,2],\n",
    "  [2,1,3],\n",
    "  [2,3,1],\n",
    "  [3,1,2],\n",
    "  [3,2,1]\n",
    "]\n",
    "```"
   ]
  },
  {
   "cell_type": "code",
   "execution_count": 4,
   "metadata": {},
   "outputs": [],
   "source": [
    "class Solution:\n",
    "    def permute(self, nums):\n",
    "        \"\"\"\n",
    "        :type nums: List[int]\n",
    "        :rtype: List[List[int]]\n",
    "        \"\"\"\n",
    "        self.answer = []\n",
    "        self.helper(nums, [])\n",
    "        return self.answer\n",
    "        \n",
    "    def helper(self, nums, res):\n",
    "        if not nums:\n",
    "            self.answer.append(res)\n",
    "            return\n",
    "\n",
    "        for elem in nums:\n",
    "            cpy = nums[:]\n",
    "            cpy.remove(elem)\n",
    "            self.helper(cpy, res[:] + [elem])"
   ]
  },
  {
   "cell_type": "markdown",
   "metadata": {},
   "source": [
    "# 122. Best Time to Buy and Sell Stock II\n",
    "Say you have an array for which the ith element is the price of a given stock on day i.\n",
    "\n",
    "Design an algorithm to find the maximum profit. You may complete as many transactions as you like (i.e., buy one and sell one share of the stock multiple times).\n",
    "\n",
    "Note: You may not engage in multiple transactions at the same time (i.e., you must sell the stock before you buy again).\n",
    "```\n",
    "Example 1:\n",
    "\n",
    "Input: [7,1,5,3,6,4]\n",
    "Output: 7\n",
    "Explanation: Buy on day 2 (price = 1) and sell on day 3 (price = 5), profit = 5-1 = 4.\n",
    "             Then buy on day 4 (price = 3) and sell on day 5 (price = 6), profit = 6-3 = 3.\n",
    "Example 2:\n",
    "\n",
    "Input: [1,2,3,4,5]\n",
    "Output: 4\n",
    "Explanation: Buy on day 1 (price = 1) and sell on day 5 (price = 5), profit = 5-1 = 4.\n",
    "             Note that you cannot buy on day 1, buy on day 2 and sell them later, as you are\n",
    "             engaging multiple transactions at the same time. You must sell before buying again.\n",
    "Example 3:\n",
    "\n",
    "Input: [7,6,4,3,1]\n",
    "Output: 0\n",
    "Explanation: In this case, no transaction is done, i.e. max profit = 0.\n",
    "```"
   ]
  },
  {
   "cell_type": "code",
   "execution_count": null,
   "metadata": {},
   "outputs": [],
   "source": [
    "class Solution(object):\n",
    "    def maxProfit(self, prices):\n",
    "        \"\"\"\n",
    "        :type prices: List[int]\n",
    "        :rtype: int\n",
    "        \"\"\"\n",
    "        max_profit = 0\n",
    "\n",
    "        for i in range(0, len(prices)-1):\n",
    "            profit = sum([max(prices[i+1]-prices[i],0)])\n",
    "            max_profit += profit\n",
    "    \n",
    "        return max_profit"
   ]
  },
  {
   "cell_type": "markdown",
   "metadata": {},
   "source": [
    "# 868. Binary Gap\n",
    "Given a positive integer N, find and return the longest distance between two consecutive 1's in the binary representation of N.\n",
    "\n",
    "If there aren't two consecutive 1's, return 0.\n",
    "```\n",
    "Example 1:\n",
    "\n",
    "Input: 22\n",
    "Output: 2\n",
    "Explanation: \n",
    "22 in binary is 0b10110.\n",
    "In the binary representation of 22, there are three ones, and two consecutive pairs of 1's.\n",
    "The first consecutive pair of 1's have distance 2.\n",
    "The second consecutive pair of 1's have distance 1.\n",
    "The answer is the largest of these two distances, which is 2.\n",
    "Example 2:\n",
    "\n",
    "Input: 5\n",
    "Output: 2\n",
    "Explanation: \n",
    "5 in binary is 0b101.\n",
    "Example 3:\n",
    "\n",
    "Input: 6\n",
    "Output: 1\n",
    "Explanation: \n",
    "6 in binary is 0b110.\n",
    "Example 4:\n",
    "\n",
    "Input: 8\n",
    "Output: 0\n",
    "Explanation: \n",
    "8 in binary is 0b1000.\n",
    "There aren't any consecutive pairs of 1's in the binary representation of 8, so we return 0.\n",
    "```"
   ]
  },
  {
   "cell_type": "code",
   "execution_count": 1,
   "metadata": {},
   "outputs": [],
   "source": [
    "class Solution(object):\n",
    "    def binaryGap(self, N):\n",
    "        \"\"\"\n",
    "        :type N: int\n",
    "        :rtype: int\n",
    "        \"\"\"\n",
    "        maxdist = 0\n",
    "        i = 1\n",
    "        dist = 0\n",
    "        one = False\n",
    "            \n",
    "        while i < N:\n",
    "            b = (N & i)\n",
    "            # print b, maxdist\n",
    "            if b == 0:\n",
    "                if one:\n",
    "                    dist += 1\n",
    "            else:\n",
    "                one = True\n",
    "                if dist > maxdist:\n",
    "                    maxdist = dist\n",
    "                dist = 1\n",
    "            i = i<<1\n",
    "        return maxdist"
   ]
  },
  {
   "cell_type": "code",
   "execution_count": 3,
   "metadata": {},
   "outputs": [
    {
     "data": {
      "text/plain": [
       "2"
      ]
     },
     "execution_count": 3,
     "metadata": {},
     "output_type": "execute_result"
    }
   ],
   "source": [
    "Solution().binaryGap(22)"
   ]
  },
  {
   "cell_type": "markdown",
   "metadata": {},
   "source": [
    "# 257. Binary Tree Paths\n",
    "Given a binary tree, return all root-to-leaf paths.\n",
    "\n",
    "Note: A leaf is a node with no children.\n",
    "\n",
    "```\n",
    "Example:\n",
    "\n",
    "Input:\n",
    "\n",
    "   1\n",
    " /   \\\n",
    "2     3\n",
    " \\\n",
    "  5\n",
    "\n",
    "Output: [\"1->2->5\", \"1->3\"]\n",
    "\n",
    "Explanation: All root-to-leaf paths are: 1->2->5, 1->3\n",
    "```"
   ]
  },
  {
   "cell_type": "code",
   "execution_count": 32,
   "metadata": {},
   "outputs": [],
   "source": [
    "# Definition for a binary tree node.\n",
    "class TreeNode:\n",
    "    def __init__(self, x):\n",
    "        self.val = x\n",
    "        self.left = None\n",
    "        self.right = None\n",
    "\n",
    "class Solution:\n",
    "    def binaryTreePaths(self, root):\n",
    "        \"\"\"\n",
    "        :type root: TreeNode\n",
    "        :rtype: List[str]\n",
    "        \"\"\"\n",
    "        result = []\n",
    "        if root is None:\n",
    "            return result \n",
    "        def getTreePath(root, currPath):\n",
    "            currPath = currPath + '->' + str(root.val) if currPath else str(root.val)\n",
    "            if root != None and root.left is None and root.right is None:\n",
    "                result.append(currPath)\n",
    "                return\n",
    "            if root.left:\n",
    "                getTreePath(root.left, currPath)\n",
    "            if root.right:\n",
    "                getTreePath(root.right, currPath)        \n",
    "        getTreePath(root, '')\n",
    "        return result"
   ]
  },
  {
   "cell_type": "code",
   "execution_count": 35,
   "metadata": {},
   "outputs": [],
   "source": [
    "a1 = TreeNode(1)\n",
    "# a2 = TreeNode(2)\n",
    "# a3 = TreeNode(3)\n",
    "# a5 = TreeNode(5)\n",
    "# a1.left = a2\n",
    "# a1.right = a3\n",
    "# a2.right = a5"
   ]
  },
  {
   "cell_type": "code",
   "execution_count": 36,
   "metadata": {},
   "outputs": [
    {
     "data": {
      "text/plain": [
       "['1']"
      ]
     },
     "execution_count": 36,
     "metadata": {},
     "output_type": "execute_result"
    }
   ],
   "source": [
    "Solution().binaryTreePaths(a1)"
   ]
  },
  {
   "cell_type": "markdown",
   "metadata": {},
   "source": [
    "# 605. Can Place Flowers\n",
    "Suppose you have a long flowerbed in which some of the plots are planted and some are not. However, flowers cannot be planted in adjacent plots - they would compete for water and both would die.\n",
    "\n",
    "Given a flowerbed (represented as an array containing 0 and 1, where 0 means empty and 1 means not empty), and a number n, return if n new flowers can be planted in it without violating the no-adjacent-flowers rule.\n",
    "```\n",
    "Example 1:\n",
    "Input: flowerbed = [1,0,0,0,1], n = 1\n",
    "Output: True\n",
    "Example 2:\n",
    "Input: flowerbed = [1,0,0,0,1], n = 2\n",
    "Output: False\n",
    "```\n",
    "Note:\n",
    "1. The input array won't violate no-adjacent-flowers rule.\n",
    "2. The input array size is in the range of [1, 20000].\n",
    "3. n is a non-negative integer which won't exceed the input array size.\n"
   ]
  },
  {
   "cell_type": "code",
   "execution_count": 75,
   "metadata": {},
   "outputs": [],
   "source": [
    "class Solution:\n",
    "    def canPlaceFlowers(self, a, n):            \n",
    "        if n == 0: return True\n",
    "        a = [0] + a + [0]\n",
    "        for i in range(1, len(a)-1):            \n",
    "            if a[i-1] == a[i] == a[i+1] == 0:\n",
    "                a[i] = 1\n",
    "                n -= 1\n",
    "                if n == 0: return True\n",
    "\n",
    "        return False"
   ]
  },
  {
   "cell_type": "code",
   "execution_count": 78,
   "metadata": {},
   "outputs": [],
   "source": [
    "flowerbed = [1,0,0,0,1]\n",
    "n = 1"
   ]
  },
  {
   "cell_type": "code",
   "execution_count": 79,
   "metadata": {},
   "outputs": [
    {
     "name": "stdout",
     "output_type": "stream",
     "text": [
      "2\n",
      "[1, 1, 1, 0, 1]\n"
     ]
    },
    {
     "data": {
      "text/plain": [
       "False"
      ]
     },
     "execution_count": 79,
     "metadata": {},
     "output_type": "execute_result"
    }
   ],
   "source": [
    "Solution().canPlaceFlowers(flowerbed, n)"
   ]
  },
  {
   "cell_type": "markdown",
   "metadata": {},
   "source": [
    "# 312. Burst Balloons\n",
    "Given n balloons, indexed from 0 to n-1. Each balloon is painted with a number on it represented by array nums. You are asked to burst all the balloons. If the you burst balloon i you will get nums[left] * nums[i] * nums[right] coins. Here left and right are adjacent indices of i. After the burst, the left and right then becomes adjacent.\n",
    "\n",
    "Find the maximum coins you can collect by bursting the balloons wisely.\n",
    "```\n",
    "Note:\n",
    "\n",
    "You may imagine nums[-1] = nums[n] = 1. They are not real therefore you can not burst them.\n",
    "0 ≤ n ≤ 500, 0 ≤ nums[i] ≤ 100\n",
    "Example:\n",
    "\n",
    "Input: [3,1,5,8]\n",
    "Output: 167 \n",
    "Explanation: nums = [3,1,5,8] --> [3,5,8] -->   [3,8]   -->  [8]  --> []\n",
    "             coins =  3*1*5      +  3*5*8    +  1*3*8      + 1*8*1   = 167\n",
    "```"
   ]
  },
  {
   "cell_type": "code",
   "execution_count": 84,
   "metadata": {},
   "outputs": [],
   "source": [
    "class Solution(object):\n",
    "    def maxCoins(self, nums):\n",
    "        \"\"\"\n",
    "        :type nums: List[int]\n",
    "        :rtype: int\n",
    "        \"\"\"\n",
    "        nums = [1] + nums + [1]\n",
    "        n = len(nums)\n",
    "        dp = [[0] * n for _ in range(n)]\n",
    "\n",
    "        def calculate(i, j):\n",
    "            if dp[i][j] or j == i + 1: # in memory or gap < 2\n",
    "                return dp[i][j]\n",
    "            coins = 0\n",
    "            for k in range(i+1, j): # find the last balloon\n",
    "                coins = max(coins, nums[i] * nums[k] * nums[j] + calculate(i, k) + calculate(k, j))\n",
    "            dp[i][j] = coins\n",
    "            return coins\n",
    "\n",
    "        return calculate(0, n-1)"
   ]
  },
  {
   "cell_type": "code",
   "execution_count": 85,
   "metadata": {},
   "outputs": [
    {
     "data": {
      "text/plain": [
       "167"
      ]
     },
     "execution_count": 85,
     "metadata": {},
     "output_type": "execute_result"
    }
   ],
   "source": [
    "Solution().maxCoins([3,1,5,8])"
   ]
  },
  {
   "cell_type": "markdown",
   "metadata": {},
   "source": [
    "# 815. Bus Routes\n",
    "We have a list of bus routes. Each routes[i] is a bus route that the i-th bus repeats forever. For example if routes[0] = [1, 5, 7], this means that the first bus (0-th indexed) travels in the sequence 1->5->7->1->5->7->1->... forever.\n",
    "\n",
    "We start at bus stop S (initially not on a bus), and we want to go to bus stop T. Travelling by buses only, what is the least number of buses we must take to reach our destination? Return -1 if it is not possible.\n",
    "```\n",
    "Example:\n",
    "Input: \n",
    "routes = [[1, 2, 7], [3, 6, 7]]\n",
    "S = 1\n",
    "T = 6\n",
    "Output: 2\n",
    "Explanation: \n",
    "The best strategy is take the first bus to the bus stop 7, then take the second bus to the bus stop 6.\n",
    "```\n",
    "Note:\n",
    "\n",
    "1 <= routes.length <= 500.\n",
    "1 <= routes[i].length <= 500.\n",
    "0 <= routes[i][j] < 10 ^ 6."
   ]
  },
  {
   "cell_type": "code",
   "execution_count": 1,
   "metadata": {},
   "outputs": [],
   "source": [
    "from collections import deque\n",
    "class Solution:\n",
    "    # This is a very good BFS problem.\n",
    "    # In BFS, we need to traverse all positions in each level firstly, and then go to the next level.\n",
    "    # Our task is to figure out:\n",
    "    # 1. What is the level in this problem?\n",
    "    # 2. What is the position we want in this problem?\n",
    "    # 3. How to traverse all positions in a level?\n",
    "    # \n",
    "    # For this problem:\n",
    "    # 1. The level is each time to take bus.\n",
    "    # 2. The position is all of the stops you can reach for taking one time of bus.\n",
    "    # 3. Using a queue to record all of the stops can be arrived for each time you take buses.\n",
    "    def numBusesToDestination(self, routes, S, T):\n",
    "        \"\"\"\n",
    "        :type routes: List[List[int]]\n",
    "        :type S: int\n",
    "        :type T: int\n",
    "        :rtype: int\n",
    "        \"\"\"\n",
    "        # You already at the terminal, so you needn't take any bus.\n",
    "        if S == T: return 0\n",
    "        \n",
    "        # You need to record all the buses you can take at each stop so that you can find out all\n",
    "        # of the stops you can reach when you take one time of bus.\n",
    "        # the key is stop and the value is all of the buses you can take at this stop.\n",
    "        stopBoard = {} \n",
    "        for bus, stops in enumerate(routes):\n",
    "            for stop in stops:\n",
    "                if stop not in stopBoard:\n",
    "                    stopBoard[stop] = [bus]\n",
    "                else:\n",
    "                    stopBoard[stop].append(bus)\n",
    "        \n",
    "        # The queue is to record all of the stops you can reach when you take one time of bus.\n",
    "        queue = deque([S])\n",
    "        # Using visited to record the buses that have been taken before, because you needn't to take them again.\n",
    "        visited = set()\n",
    "\n",
    "        res = 0\n",
    "        while queue:\n",
    "            # take one time of bus.\n",
    "            res += 1\n",
    "            # In order to traverse all of the stops you can reach for this time, you have to traverse\n",
    "            # all of the stops you can reach in last time.\n",
    "            pre_num_stops = len(queue)\n",
    "            for _ in range(pre_num_stops):\n",
    "                curStop = queue.pop()\n",
    "                # Each stop you can take at least one bus, you need to traverse all of the buses at this stop\n",
    "                # in order to get all of the stops can be reach at this time.\n",
    "                for bus in stopBoard[curStop]:\n",
    "                    # if the bus you have taken before, you needn't take it again.\n",
    "                    if bus in visited: continue\n",
    "                    visited.add(bus)\n",
    "                    for stop in routes[bus]:\n",
    "                        if stop == T: return res\n",
    "                        queue.append(stop)\n",
    "        return res"
   ]
  },
  {
   "cell_type": "code",
   "execution_count": 2,
   "metadata": {},
   "outputs": [],
   "source": [
    "routes = [[1, 2, 7], [3, 6, 7]]\n",
    "S = 1\n",
    "T = 6"
   ]
  },
  {
   "cell_type": "code",
   "execution_count": 3,
   "metadata": {},
   "outputs": [
    {
     "data": {
      "text/plain": [
       "2"
      ]
     },
     "execution_count": 3,
     "metadata": {},
     "output_type": "execute_result"
    }
   ],
   "source": [
    "Solution().numBusesToDestination(routes, S, T)"
   ]
  },
  {
   "cell_type": "markdown",
   "metadata": {},
   "source": [
    "# 135. Candy\n",
    "There are N children standing in a line. Each child is assigned a rating value.\n",
    "\n",
    "You are giving candies to these children subjected to the following requirements:\n",
    "\n",
    "Each child must have at least one candy.\n",
    "Children with a higher rating get more candies than their neighbors.\n",
    "What is the minimum candies you must give?\n",
    "```\n",
    "Example 1:\n",
    "\n",
    "Input: [1,0,2]\n",
    "Output: 5\n",
    "Explanation: You can allocate to the first, second and third child with 2, 1, 2 candies respectively.\n",
    "```\n",
    "```\n",
    "Example 2:\n",
    "\n",
    "Input: [1,2,2]\n",
    "Output: 4\n",
    "Explanation: You can allocate to the first, second and third child with 1, 2, 1 candies respectively.\n",
    "             The third child gets 1 candy because it satisfies the above two conditions.\n",
    "```"
   ]
  },
  {
   "cell_type": "code",
   "execution_count": 25,
   "metadata": {},
   "outputs": [],
   "source": [
    "class Solution:\n",
    "    def candy(self, ratings):\n",
    "        \"\"\"\n",
    "        :type ratings: List[int]\n",
    "        :rtype: int\n",
    "        \"\"\"\n",
    "        tmp = [1]\n",
    "        for i in range(1, len(ratings)):\n",
    "            tmp.append(tmp[i-1] + 1 if ratings[i] > ratings[i-1] else 1)\n",
    "        tmp2 = [1]\n",
    "        for i in range(len(ratings)-2, -1, -1):\n",
    "            tmp2.append(tmp2[-1]+1 if ratings[i] > ratings[i+1] else 1)\n",
    "        tmp2 = tmp2[::-1]\n",
    "        return sum(max(tmp[i], tmp2[i]) for i in range(len(ratings)))"
   ]
  },
  {
   "cell_type": "code",
   "execution_count": 26,
   "metadata": {},
   "outputs": [
    {
     "data": {
      "text/plain": [
       "7"
      ]
     },
     "execution_count": 26,
     "metadata": {},
     "output_type": "execute_result"
    }
   ],
   "source": [
    "Solution().candy([1,3,2,2,1])"
   ]
  },
  {
   "cell_type": "code",
   "execution_count": 8,
   "metadata": {},
   "outputs": [],
   "source": [
    "ratings = [1,3,2,2,1]"
   ]
  },
  {
   "cell_type": "code",
   "execution_count": 17,
   "metadata": {},
   "outputs": [
    {
     "data": {
      "text/plain": [
       "[4, 3, 2, 1, 0]"
      ]
     },
     "execution_count": 17,
     "metadata": {},
     "output_type": "execute_result"
    }
   ],
   "source": [
    "[i for i in range(len(ratings)-1, -1, -1)]"
   ]
  },
  {
   "cell_type": "code",
   "execution_count": 19,
   "metadata": {},
   "outputs": [],
   "source": [
    "tmp2 = [1]\n",
    "for i in range(len(ratings)-2, -1, -1):\n",
    "    tmp2.append(tmp2[-1]+1 if ratings[i] > ratings[i+1] else 1)"
   ]
  },
  {
   "cell_type": "code",
   "execution_count": 20,
   "metadata": {},
   "outputs": [
    {
     "data": {
      "text/plain": [
       "[1, 2, 1, 2, 1]"
      ]
     },
     "execution_count": 20,
     "metadata": {},
     "output_type": "execute_result"
    }
   ],
   "source": [
    "tmp2"
   ]
  }
 ],
 "metadata": {
  "kernelspec": {
   "display_name": "Python 3",
   "language": "python",
   "name": "python3"
  },
  "language_info": {
   "codemirror_mode": {
    "name": "ipython",
    "version": 3
   },
   "file_extension": ".py",
   "mimetype": "text/x-python",
   "name": "python",
   "nbconvert_exporter": "python",
   "pygments_lexer": "ipython3",
   "version": "3.6.4"
  }
 },
 "nbformat": 4,
 "nbformat_minor": 2
}
